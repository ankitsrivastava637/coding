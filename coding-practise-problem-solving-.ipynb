{
  "nbformat": 4,
  "nbformat_minor": 0,
  "metadata": {
    "colab": {
      "name": "inter_task",
      "provenance": [],
      "collapsed_sections": []
    },
    "kernelspec": {
      "name": "python3",
      "display_name": "Python 3"
    }
  },
  "cells": [
    {
      "cell_type": "code",
      "metadata": {
        "colab": {
          "base_uri": "https://localhost:8080/"
        },
        "id": "EGseukKpODLB",
        "outputId": "c3d27fed-e5d3-4657-d6e3-099a642cfc47"
      },
      "source": [
        "#1\n",
        "def plusMinus(arr):\n",
        "    n=p=z=0\n",
        "    for ar in arr:\n",
        "        if ar < 0:\n",
        "            n += 1\n",
        "        elif ar == 0:\n",
        "            z += 1\n",
        "        else:\n",
        "            p += 1\n",
        "            \n",
        "    rn = n/len(arr)\n",
        "    rz = z/len(arr)\n",
        "    rp = p/len(arr)    \n",
        "    \n",
        "    return rp, rn, rz\n",
        " \n",
        "plusMinus([5,-1,0,-2,-6, 6])"
      ],
      "execution_count": null,
      "outputs": [
        {
          "output_type": "execute_result",
          "data": {
            "text/plain": [
              "(0.3333333333333333, 0.5, 0.16666666666666666)"
            ]
          },
          "metadata": {
            "tags": []
          },
          "execution_count": 1
        }
      ]
    },
    {
      "cell_type": "code",
      "metadata": {
        "colab": {
          "base_uri": "https://localhost:8080/"
        },
        "id": "wjL9zUNhcQaS",
        "outputId": "76c19a44-0518-478e-c26f-d173069e5c2a"
      },
      "source": [
        "#2\n",
        "arr = [10,11,9]\n",
        "arr.sort()\n",
        "arr"
      ],
      "execution_count": null,
      "outputs": [
        {
          "output_type": "execute_result",
          "data": {
            "text/plain": [
              "[9, 10, 11]"
            ]
          },
          "metadata": {
            "tags": []
          },
          "execution_count": 12
        }
      ]
    },
    {
      "cell_type": "code",
      "metadata": {
        "colab": {
          "base_uri": "https://localhost:8080/"
        },
        "id": "KffApvucYzd0",
        "outputId": "466cc996-6dd6-4377-d1e6-03c19be5363a"
      },
      "source": [
        "#3\n",
        "n = int(input())\n",
        "arr = []\n",
        "for i in range(n):\n",
        "  ar = list(input())\n",
        "  arr = arr + ar\n",
        "\n",
        "arr.sort()\n",
        "ar1 = []\n",
        "for i in range(len(arr)):\n",
        "  if arr[i] != arr[len(arr)-1]:\n",
        "    ar1 = ar.append(arr[i])\n",
        "print(\"runner up is:\",ar[len(ar)-1])"
      ],
      "execution_count": null,
      "outputs": [
        {
          "output_type": "stream",
          "text": [
            "4\n",
            "3\n",
            "5\n",
            "8\n",
            "7\n",
            "runner up is: 7\n"
          ],
          "name": "stdout"
        }
      ]
    },
    {
      "cell_type": "code",
      "metadata": {
        "colab": {
          "base_uri": "https://localhost:8080/"
        },
        "id": "EQSl8hA8eEk8",
        "outputId": "bfb8c3b2-87a1-4084-ba22-0843e0ea0c9f"
      },
      "source": [
        "#4\n",
        "def gradingStudents(grades):\n",
        "    # Write your code here\n",
        "    ar = []\n",
        "  \n",
        "    for gd in grades:\n",
        "      if gd >= 38 and gd % 5 >= 3:\n",
        "          gd = gd + (5-gd % 5)\n",
        "      ar.append(gd)\n",
        "    return ar      \n",
        "\n",
        "grades = [40, 46, 89, 77, 56, 93, 84, 65]\n",
        "gradingStudents(grades)        "
      ],
      "execution_count": null,
      "outputs": [
        {
          "output_type": "execute_result",
          "data": {
            "text/plain": [
              "[40, 46, 90, 77, 56, 95, 85, 65]"
            ]
          },
          "metadata": {
            "tags": []
          },
          "execution_count": 8
        }
      ]
    },
    {
      "cell_type": "code",
      "metadata": {
        "id": "hrW9GRfxeFC_"
      },
      "source": [
        ""
      ],
      "execution_count": null,
      "outputs": []
    },
    {
      "cell_type": "markdown",
      "metadata": {
        "id": "QqavMRaBmbpD"
      },
      "source": [
        "# **#Example: For positive numbers**"
      ]
    },
    {
      "cell_type": "code",
      "metadata": {
        "id": "QM65gJVmeFGM"
      },
      "source": [
        "#5\n",
        "# Python Program to calculate the square root\n",
        "\n",
        "# Note: change this value for a different result\n",
        "num = 8 \n",
        "\n",
        "# To take the input from the user\n",
        "#num = float(input('Enter a number: '))\n",
        "\n",
        "num_sqrt = num ** 0.5\n",
        "print('The square root of %0.3f is %0.3f'%(num ,num_sqrt))"
      ],
      "execution_count": null,
      "outputs": []
    },
    {
      "cell_type": "code",
      "metadata": {
        "id": "kNBE0vJ6eFJU"
      },
      "source": [
        ""
      ],
      "execution_count": null,
      "outputs": []
    },
    {
      "cell_type": "code",
      "metadata": {
        "id": "N3gpK7PieFMp"
      },
      "source": [
        "#6\n",
        "\n",
        "# Python program to swap two variables\n",
        "\n",
        "x = 5\n",
        "y = 10\n",
        "\n",
        "# To take inputs from the user\n",
        "#x = input('Enter value of x: ')\n",
        "#y = input('Enter value of y: ')\n",
        "\n",
        "# create a temporary variable and swap the values\n",
        "temp = x\n",
        "x = y\n",
        "y = temp\n",
        "\n",
        "print('The value of x after swapping: {}'.format(x))\n",
        "print('The value of y after swapping: {}'.format(y))"
      ],
      "execution_count": null,
      "outputs": []
    },
    {
      "cell_type": "code",
      "metadata": {
        "id": "Uvfl7O-eeFQW"
      },
      "source": [
        "#7\n",
        "\n",
        "# Program to generate a random number between 0 and 9\n",
        "\n",
        "# importing the random module\n",
        "import random\n",
        "\n",
        "print(random.randint(0,9))"
      ],
      "execution_count": null,
      "outputs": []
    },
    {
      "cell_type": "code",
      "metadata": {
        "id": "hIWxXJB1eFTz",
        "colab": {
          "base_uri": "https://localhost:8080/"
        },
        "outputId": "c705a315-160b-427b-9d5d-da18562db532"
      },
      "source": [
        "#8\n",
        "\n",
        "# Taking kilometers input from the user\n",
        "kilometers = float(input(\"Enter value in kilometers: \"))\n",
        "\n",
        "# conversion factor\n",
        "conv_fac = 0.621371\n",
        "\n",
        "# calculate miles\n",
        "miles = kilometers * conv_fac\n",
        "print('%0.2f kilometers is equal to %0.2f miles' %(kilometers,miles))"
      ],
      "execution_count": null,
      "outputs": [
        {
          "output_type": "stream",
          "text": [
            "Enter value in kilometers: 5\n",
            "5.00 kilometers is equal to 3.11 miles\n"
          ],
          "name": "stdout"
        }
      ]
    },
    {
      "cell_type": "code",
      "metadata": {
        "id": "82akY_2WYzp5",
        "colab": {
          "base_uri": "https://localhost:8080/"
        },
        "outputId": "2aca21e8-2c9d-4428-d0d4-bf94191a6d7a"
      },
      "source": [
        "#9\n",
        "\n",
        "# Python Program to convert temperature in celsius to fahrenheit\n",
        "\n",
        "# change this value for a different result\n",
        "celsius = 37.5\n",
        "\n",
        "# calculate fahrenheit\n",
        "fahrenheit = (celsius * 1.8) + 32\n",
        "print('%0.1f degree Celsius is equal to %0.1f degree Fahrenheit' %(celsius,fahrenheit))"
      ],
      "execution_count": null,
      "outputs": [
        {
          "output_type": "stream",
          "text": [
            "37.5 degree Celsius is equal to 99.5 degree Fahrenheit\n"
          ],
          "name": "stdout"
        }
      ]
    },
    {
      "cell_type": "code",
      "metadata": {
        "id": "z-5BAdSXnCBD",
        "colab": {
          "base_uri": "https://localhost:8080/"
        },
        "outputId": "2b682e2b-d7b9-43da-9e4d-368aa8159bae"
      },
      "source": [
        "#10\n",
        "\n",
        "# Python Program to convert temperature in celsius to fahrenheit\n",
        "\n",
        "# change this value for a different result\n",
        "celsius = 37.5\n",
        "\n",
        "# calculate fahrenheit\n",
        "fahrenheit = (celsius * 1.8) + 32\n",
        "print('%0.1f degree Celsius is equal to %0.1f degree Fahrenheit' %(celsius,fahrenheit))"
      ],
      "execution_count": null,
      "outputs": [
        {
          "output_type": "stream",
          "text": [
            "37.5 degree Celsius is equal to 99.5 degree Fahrenheit\n"
          ],
          "name": "stdout"
        }
      ]
    },
    {
      "cell_type": "code",
      "metadata": {
        "id": "LCfdJ5FsnCD2",
        "colab": {
          "base_uri": "https://localhost:8080/"
        },
        "outputId": "64559ed9-5b7f-4911-ffe9-7fa3112661e8"
      },
      "source": [
        "#11\n",
        "\n",
        "#Find odd no. or even no.\n",
        "num = float(input(\"Enter a number: \"))\n",
        "if num > 0:\n",
        "   print(\"Positive number\")\n",
        "elif num == 0:\n",
        "   print(\"Zero\")\n",
        "else:\n",
        "   print(\"Negative number\")"
      ],
      "execution_count": null,
      "outputs": [
        {
          "output_type": "stream",
          "text": [
            "Enter a number: 78\n",
            "Positive number\n"
          ],
          "name": "stdout"
        }
      ]
    },
    {
      "cell_type": "code",
      "metadata": {
        "id": "z450Lo1OoAfF",
        "colab": {
          "base_uri": "https://localhost:8080/"
        },
        "outputId": "4da8b0d0-f684-4dad-b1b6-6dd777374615"
      },
      "source": [
        "#12\n",
        "\n",
        "# Python program to check if year is a leap year or not\n",
        "\n",
        "year = 2000\n",
        "\n",
        "# To get year (integer input) from the user\n",
        "# year = int(input(\"Enter a year: \"))\n",
        "\n",
        "if (year % 4) == 0:\n",
        "   if (year % 100) == 0:\n",
        "       if (year % 400) == 0:\n",
        "           print(\"{0} is a leap year\".format(year))\n",
        "       else:\n",
        "           print(\"{0} is not a leap year\".format(year))\n",
        "   else:\n",
        "       print(\"{0} is a leap year\".format(year))\n",
        "else:\n",
        "   print(\"{0} is not a leap year\".format(year))"
      ],
      "execution_count": null,
      "outputs": [
        {
          "output_type": "stream",
          "text": [
            "2000 is a leap year\n"
          ],
          "name": "stdout"
        }
      ]
    },
    {
      "cell_type": "code",
      "metadata": {
        "id": "F5mYp376oAkw",
        "colab": {
          "base_uri": "https://localhost:8080/"
        },
        "outputId": "0a9ef6db-6157-4c88-af8e-79b6eb2b162d"
      },
      "source": [
        "#13\n",
        "\n",
        "# Python program to find the largest number among the three input numbers\n",
        "\n",
        "# change the values of num1, num2 and num3\n",
        "# for a different result\n",
        "num1 = 10\n",
        "num2 = 14\n",
        "num3 = 12\n",
        "\n",
        "# uncomment following lines to take three numbers from user\n",
        "#num1 = float(input(\"Enter first number: \"))\n",
        "#num2 = float(input(\"Enter second number: \"))\n",
        "#num3 = float(input(\"Enter third number: \"))\n",
        "\n",
        "if (num1 >= num2) and (num1 >= num3):\n",
        "   largest = num1\n",
        "elif (num2 >= num1) and (num2 >= num3):\n",
        "   largest = num2\n",
        "else:\n",
        "   largest = num3\n",
        "\n",
        "print(\"The largest number is\", largest)"
      ],
      "execution_count": null,
      "outputs": [
        {
          "output_type": "stream",
          "text": [
            "The largest number is 14\n"
          ],
          "name": "stdout"
        }
      ]
    },
    {
      "cell_type": "code",
      "metadata": {
        "id": "dbiA2aO5oAoj",
        "colab": {
          "base_uri": "https://localhost:8080/"
        },
        "outputId": "a8641af6-e992-43a0-b9d0-d9fbcb2470d3"
      },
      "source": [
        "#14\n",
        "\n",
        "# Program to check if a number is prime or not\n",
        "\n",
        "num = 407\n",
        "\n",
        "# To take input from the user\n",
        "#num = int(input(\"Enter a number: \"))\n",
        "\n",
        "# prime numbers are greater than 1\n",
        "if num > 1:\n",
        "   # check for factors\n",
        "   for i in range(2,num):\n",
        "       if (num % i) == 0:\n",
        "           print(num,\"is not a prime number\")\n",
        "           print(i,\"times\",num//i,\"is\",num)\n",
        "           break\n",
        "   else:\n",
        "       print(num,\"is a prime number\")\n",
        "       \n",
        "# if input number is less than\n",
        "# or equal to 1, it is not prime\n",
        "else:\n",
        "   print(num,\"is not a prime number\")"
      ],
      "execution_count": null,
      "outputs": [
        {
          "output_type": "stream",
          "text": [
            "407 is not a prime number\n",
            "11 times 37 is 407\n"
          ],
          "name": "stdout"
        }
      ]
    },
    {
      "cell_type": "code",
      "metadata": {
        "id": "CFFP5kijoAsh",
        "colab": {
          "base_uri": "https://localhost:8080/"
        },
        "outputId": "b45feb57-23f5-4ab6-9555-8c8fd63b1d91"
      },
      "source": [
        "#15\n",
        "\n",
        "# Python program to display all the prime numbers within an interval\n",
        "\n",
        "lower = 900\n",
        "upper = 1000\n",
        "\n",
        "print(\"Prime numbers between\", lower, \"and\", upper, \"are:\")\n",
        "\n",
        "for num in range(lower, upper + 1):\n",
        "   # all prime numbers are greater than 1\n",
        "   if num > 1:\n",
        "       for i in range(2, num):\n",
        "           if (num % i) == 0:\n",
        "               break\n",
        "       else:\n",
        "           print(num)"
      ],
      "execution_count": null,
      "outputs": [
        {
          "output_type": "stream",
          "text": [
            "Prime numbers between 900 and 1000 are:\n",
            "907\n",
            "911\n",
            "919\n",
            "929\n",
            "937\n",
            "941\n",
            "947\n",
            "953\n",
            "967\n",
            "971\n",
            "977\n",
            "983\n",
            "991\n",
            "997\n"
          ],
          "name": "stdout"
        }
      ]
    },
    {
      "cell_type": "code",
      "metadata": {
        "id": "LdS3fY9RoAwd",
        "colab": {
          "base_uri": "https://localhost:8080/"
        },
        "outputId": "deb4c20b-72c0-41b3-8393-03ed63cbeabf"
      },
      "source": [
        "#16\n",
        "\n",
        "# Python program to find the factorial of a number provided by the user.\n",
        "\n",
        "# change the value for a different result\n",
        "num = 7\n",
        "\n",
        "# To take input from the user\n",
        "#num = int(input(\"Enter a number: \"))\n",
        "\n",
        "factorial = 1\n",
        "\n",
        "# check if the number is negative, positive or zero\n",
        "if num < 0:\n",
        "   print(\"Sorry, factorial does not exist for negative numbers\")\n",
        "elif num == 0:\n",
        "   print(\"The factorial of 0 is 1\")\n",
        "else:\n",
        "   for i in range(1,num + 1):\n",
        "       factorial = factorial*i\n",
        "   print(\"The factorial of\",num,\"is\",factorial)\n"
      ],
      "execution_count": null,
      "outputs": [
        {
          "output_type": "stream",
          "text": [
            "The factorial of 7 is 5040\n"
          ],
          "name": "stdout"
        }
      ]
    },
    {
      "cell_type": "code",
      "metadata": {
        "id": "f6RVjnR2nCG-",
        "colab": {
          "base_uri": "https://localhost:8080/"
        },
        "outputId": "2eaddd35-cda8-4481-8e95-dd2150b8a686"
      },
      "source": [
        "#17\n",
        "\n",
        "# Multiplication table (from 1 to 10) in Python\n",
        "\n",
        "num = 12\n",
        "\n",
        "# To take input from the user\n",
        "# num = int(input(\"Display multiplication table of? \"))\n",
        "\n",
        "# Iterate 10 times from i = 1 to 10\n",
        "for i in range(1, 11):\n",
        "   print(num, 'x', i, '=', num*i)"
      ],
      "execution_count": null,
      "outputs": [
        {
          "output_type": "stream",
          "text": [
            "12 x 1 = 12\n",
            "12 x 2 = 24\n",
            "12 x 3 = 36\n",
            "12 x 4 = 48\n",
            "12 x 5 = 60\n",
            "12 x 6 = 72\n",
            "12 x 7 = 84\n",
            "12 x 8 = 96\n",
            "12 x 9 = 108\n",
            "12 x 10 = 120\n"
          ],
          "name": "stdout"
        }
      ]
    },
    {
      "cell_type": "code",
      "metadata": {
        "id": "49ODC4RGnCKO",
        "colab": {
          "base_uri": "https://localhost:8080/"
        },
        "outputId": "61736aeb-0863-4d85-f09a-6402ee0c93a9"
      },
      "source": [
        "#18\n",
        "\n",
        "# Program to display the Fibonacci sequence up to n-th term\n",
        "\n",
        "nterms = int(input(\"How many terms? \"))\n",
        "\n",
        "# first two terms\n",
        "n1, n2 = 0, 1\n",
        "count = 0\n",
        "\n",
        "# check if the number of terms is valid\n",
        "if nterms <= 0:\n",
        "   print(\"Please enter a positive integer\")\n",
        "elif nterms == 1:\n",
        "   print(\"Fibonacci sequence upto\",nterms,\":\")\n",
        "   print(n1)\n",
        "else:\n",
        "   print(\"Fibonacci sequence:\")\n",
        "   while count < nterms:\n",
        "       print(n1)\n",
        "       nth = n1 + n2\n",
        "       # update values\n",
        "       n1 = n2\n",
        "       n2 = nth\n",
        "       count += 1"
      ],
      "execution_count": null,
      "outputs": [
        {
          "output_type": "stream",
          "text": [
            "How many terms? 4\n",
            "Fibonacci sequence:\n",
            "0\n",
            "1\n",
            "1\n",
            "2\n"
          ],
          "name": "stdout"
        }
      ]
    },
    {
      "cell_type": "code",
      "metadata": {
        "id": "LghH0OoKnCM4",
        "colab": {
          "base_uri": "https://localhost:8080/"
        },
        "outputId": "69c49b4b-fe58-4921-d7cb-bdb3e38a30b4"
      },
      "source": [
        "#19\n",
        " \n",
        "# Python program to check if the number is an Armstrong number or not\n",
        " \n",
        "# take input from the user\n",
        "num = int(input(\"Enter a number: \"))\n",
        " \n",
        "# initialize sum\n",
        "sum = 0\n",
        " \n",
        "# find the sum of the cube of each digit\n",
        "temp = num\n",
        "while temp > 0:\n",
        "   digit = temp % 10\n",
        "   sum += digit ** 3\n",
        "   temp //= 10\n",
        " \n",
        "# display the result\n",
        "if num == sum:\n",
        "   print(num,\"is an Armstrong number\")\n",
        "else:\n",
        "   print(num,\"is not an Armstrong number\")"
      ],
      "execution_count": null,
      "outputs": [
        {
          "output_type": "stream",
          "text": [
            "Enter a number: 9\n",
            "9 is not an Armstrong number\n"
          ],
          "name": "stdout"
        }
      ]
    },
    {
      "cell_type": "code",
      "metadata": {
        "id": "a6v8R4E4nCQD",
        "colab": {
          "base_uri": "https://localhost:8080/"
        },
        "outputId": "9702c8b4-9dde-472c-c88b-88313fe4d48e"
      },
      "source": [
        "#20\n",
        " \n",
        "# Program to check Armstrong numbers in a certain interval\n",
        " \n",
        "lower = 100\n",
        "upper = 2000\n",
        " \n",
        "for num in range(lower, upper + 1):\n",
        " \n",
        "   # order of number\n",
        "   order = len(str(num))\n",
        "    \n",
        "   # initialize sum\n",
        "   sum = 0\n",
        " \n",
        "   temp = num\n",
        "   while temp > 0:\n",
        "       digit = temp % 10\n",
        "       sum += digit ** order\n",
        "       temp //= 10\n",
        " \n",
        "   if num == sum:\n",
        "       print(num)"
      ],
      "execution_count": null,
      "outputs": [
        {
          "output_type": "stream",
          "text": [
            "153\n",
            "370\n",
            "371\n",
            "407\n",
            "1634\n"
          ],
          "name": "stdout"
        }
      ]
    },
    {
      "cell_type": "code",
      "metadata": {
        "id": "szMInCFAnCS5",
        "colab": {
          "base_uri": "https://localhost:8080/"
        },
        "outputId": "67404860-bbde-4e3e-ac38-e12129f9ac91"
      },
      "source": [
        "#21\n",
        "\n",
        "# Sum of natural numbers up to num\n",
        "\n",
        "num = 16\n",
        "\n",
        "if num < 0:\n",
        "   print(\"Enter a positive number\")\n",
        "else:\n",
        "   sum = 0\n",
        "   # use while loop to iterate until zero\n",
        "   while(num > 0):\n",
        "       sum += num\n",
        "       num -= 1\n",
        "   print(\"The sum is\", sum)"
      ],
      "execution_count": null,
      "outputs": [
        {
          "output_type": "stream",
          "text": [
            "The sum is 136\n"
          ],
          "name": "stdout"
        }
      ]
    },
    {
      "cell_type": "code",
      "metadata": {
        "id": "JgGFd2S7nCWL",
        "colab": {
          "base_uri": "https://localhost:8080/"
        },
        "outputId": "cfc32f71-543a-496a-c1c1-ccd537183b2e"
      },
      "source": [
        "#22\n",
        "\n",
        "# Display the powers of 2 using anonymous function\n",
        "\n",
        "terms = 10\n",
        "\n",
        "# Uncomment code below to take input from the user\n",
        "# terms = int(input(\"How many terms? \"))\n",
        "\n",
        "# use anonymous function\n",
        "result = list(map(lambda x: 2 ** x, range(terms)))\n",
        "\n",
        "print(\"The total terms are:\",terms)\n",
        "for i in range(terms):\n",
        "   print(\"2 raised to power\",i,\"is\",result[i])"
      ],
      "execution_count": null,
      "outputs": [
        {
          "output_type": "stream",
          "text": [
            "The total terms are: 10\n",
            "2 raised to power 0 is 1\n",
            "2 raised to power 1 is 2\n",
            "2 raised to power 2 is 4\n",
            "2 raised to power 3 is 8\n",
            "2 raised to power 4 is 16\n",
            "2 raised to power 5 is 32\n",
            "2 raised to power 6 is 64\n",
            "2 raised to power 7 is 128\n",
            "2 raised to power 8 is 256\n",
            "2 raised to power 9 is 512\n"
          ],
          "name": "stdout"
        }
      ]
    },
    {
      "cell_type": "code",
      "metadata": {
        "id": "eoZTBm_MnCY0",
        "colab": {
          "base_uri": "https://localhost:8080/"
        },
        "outputId": "94e53c8d-2247-40a1-87c1-3156f98338be"
      },
      "source": [
        "#23\n",
        "\n",
        "# Take a list of numbers\n",
        "my_list = [12, 65, 54, 39, 102, 339, 221,]\n",
        "\n",
        "# use anonymous function to filter\n",
        "result = list(filter(lambda x: (x % 13 == 0), my_list))\n",
        "\n",
        "# display the result\n",
        "print(\"Numbers divisible by 13 are\",result)"
      ],
      "execution_count": null,
      "outputs": [
        {
          "output_type": "stream",
          "text": [
            "Numbers divisible by 13 are [65, 39, 221]\n"
          ],
          "name": "stdout"
        }
      ]
    },
    {
      "cell_type": "code",
      "metadata": {
        "id": "4DMRPlMFnCbg",
        "colab": {
          "base_uri": "https://localhost:8080/"
        },
        "outputId": "cec45f8e-f7cc-434f-c52a-2d15af2670bc"
      },
      "source": [
        "#24\n",
        "\n",
        "# Python program to convert decimal into other number systems\n",
        "dec = 344\n",
        "\n",
        "print(\"The decimal value of\", dec, \"is:\")\n",
        "print(bin(dec), \"in binary.\")\n",
        "print(oct(dec), \"in octal.\")\n",
        "print(hex(dec), \"in hexadecimal.\")"
      ],
      "execution_count": null,
      "outputs": [
        {
          "output_type": "stream",
          "text": [
            "The decimal value of 344 is:\n",
            "0b101011000 in binary.\n",
            "0o530 in octal.\n",
            "0x158 in hexadecimal.\n"
          ],
          "name": "stdout"
        }
      ]
    },
    {
      "cell_type": "code",
      "metadata": {
        "id": "3sezb-I0nCe5",
        "colab": {
          "base_uri": "https://localhost:8080/"
        },
        "outputId": "6b2e3185-26d1-47e5-9e9c-dbcfb7bda450"
      },
      "source": [
        "#25\n",
        "\n",
        "# Program to find the ASCII value of the given character\n",
        "\n",
        "c = 'p'\n",
        "print(\"The ASCII value of '\" + c + \"' is\", ord(c))"
      ],
      "execution_count": null,
      "outputs": [
        {
          "output_type": "stream",
          "text": [
            "The ASCII value of 'p' is 112\n"
          ],
          "name": "stdout"
        }
      ]
    },
    {
      "cell_type": "code",
      "metadata": {
        "id": "SOQoIVxUs4Ac",
        "colab": {
          "base_uri": "https://localhost:8080/"
        },
        "outputId": "f3ce273f-46b4-4625-c005-2da5f65a152b"
      },
      "source": [
        "#26\n",
        "\n",
        "# Python program to find H.C.F of two numbers\n",
        "\n",
        "# define a function\n",
        "def compute_hcf(x, y):\n",
        "\n",
        "# choose the smaller number\n",
        "    if x > y:\n",
        "        smaller = y\n",
        "    else:\n",
        "        smaller = x\n",
        "    for i in range(1, smaller+1):\n",
        "        if((x % i == 0) and (y % i == 0)):\n",
        "            hcf = i \n",
        "    return hcf\n",
        "\n",
        "num1 = 54 \n",
        "num2 = 24\n",
        "\n",
        "print(\"The H.C.F. is\", compute_hcf(num1, num2))"
      ],
      "execution_count": null,
      "outputs": [
        {
          "output_type": "stream",
          "text": [
            "The H.C.F. is 6\n"
          ],
          "name": "stdout"
        }
      ]
    },
    {
      "cell_type": "code",
      "metadata": {
        "id": "DiqC0oFas9b4",
        "colab": {
          "base_uri": "https://localhost:8080/"
        },
        "outputId": "0e09ad58-784e-4135-d1ca-01c39c0524c2"
      },
      "source": [
        "#27\n",
        "\n",
        "# Python Program to find the L.C.M. of two input number\n",
        "\n",
        "def compute_lcm(x, y):\n",
        "\n",
        "   # choose the greater number\n",
        "   if x > y:\n",
        "       greater = x\n",
        "   else:\n",
        "       greater = y\n",
        "\n",
        "   while(True):\n",
        "       if((greater % x == 0) and (greater % y == 0)):\n",
        "           lcm = greater\n",
        "           break\n",
        "       greater += 1\n",
        "\n",
        "   return lcm\n",
        "\n",
        "num1 = 54\n",
        "num2 = 24\n",
        "\n",
        "print(\"The L.C.M. is\", compute_lcm(num1, num2))"
      ],
      "execution_count": null,
      "outputs": [
        {
          "output_type": "stream",
          "text": [
            "The L.C.M. is 216\n"
          ],
          "name": "stdout"
        }
      ]
    },
    {
      "cell_type": "code",
      "metadata": {
        "id": "twhISzd0s9nO",
        "colab": {
          "base_uri": "https://localhost:8080/"
        },
        "outputId": "0454491e-0522-46e2-a248-6ce9672d6835"
      },
      "source": [
        "#28\n",
        "\n",
        "# Python Program to find the factors of a number\n",
        "\n",
        "# This function computes the factor of the argument passed\n",
        "def print_factors(x):\n",
        "   print(\"The factors of\",x,\"are:\")\n",
        "   for i in range(1, x + 1):\n",
        "       if x % i == 0:\n",
        "           print(i)\n",
        "\n",
        "num = 320\n",
        "\n",
        "print_factors(num)\n"
      ],
      "execution_count": null,
      "outputs": [
        {
          "output_type": "stream",
          "text": [
            "The factors of 320 are:\n",
            "1\n",
            "2\n",
            "4\n",
            "5\n",
            "8\n",
            "10\n",
            "16\n",
            "20\n",
            "32\n",
            "40\n",
            "64\n",
            "80\n",
            "160\n",
            "320\n"
          ],
          "name": "stdout"
        }
      ]
    },
    {
      "cell_type": "code",
      "metadata": {
        "id": "vI5nuYaTtCt6",
        "colab": {
          "base_uri": "https://localhost:8080/"
        },
        "outputId": "0d4ba734-5723-4656-dd08-5d1764e45a17"
      },
      "source": [
        "#29\n",
        "\n",
        "# Program make a simple calculator\n",
        "\n",
        "# This function adds two numbers\n",
        "def add(x, y):\n",
        "    return x + y\n",
        "\n",
        "# This function subtracts two numbers\n",
        "def subtract(x, y):\n",
        "    return x - y\n",
        "\n",
        "# This function multiplies two numbers\n",
        "def multiply(x, y):\n",
        "    return x * y\n",
        "\n",
        "# This function divides two numbers\n",
        "def divide(x, y):\n",
        "    return x / y\n",
        "\n",
        "\n",
        "print(\"Select operation.\")\n",
        "print(\"1.Add\")\n",
        "print(\"2.Subtract\")\n",
        "print(\"3.Multiply\")\n",
        "print(\"4.Divide\")\n",
        "\n",
        "while True:\n",
        "    # Take input from the user\n",
        "    choice = input(\"Enter choice(1/2/3/4): \")\n",
        "\n",
        "    # Check if choice is one of the four options\n",
        "    if choice in ('1', '2', '3', '4'):\n",
        "        num1 = float(input(\"Enter first number: \"))\n",
        "        num2 = float(input(\"Enter second number: \"))\n",
        "\n",
        "        if choice == '1':\n",
        "            print(num1, \"+\", num2, \"=\", add(num1, num2))\n",
        "\n",
        "        elif choice == '2':\n",
        "            print(num1, \"-\", num2, \"=\", subtract(num1, num2))\n",
        "\n",
        "        elif choice == '3':\n",
        "            print(num1, \"*\", num2, \"=\", multiply(num1, num2))\n",
        "\n",
        "        elif choice == '4':\n",
        "            print(num1, \"/\", num2, \"=\", divide(num1, num2))\n",
        "        break\n",
        "    else:\n",
        "        print(\"Invalid Input\")"
      ],
      "execution_count": null,
      "outputs": [
        {
          "output_type": "stream",
          "text": [
            "Select operation.\n",
            "1.Add\n",
            "2.Subtract\n",
            "3.Multiply\n",
            "4.Divide\n",
            "Enter choice(1/2/3/4): 1\n",
            "Enter first number: 3\n",
            "Enter second number: 887766\n",
            "3.0 + 887766.0 = 887769.0\n"
          ],
          "name": "stdout"
        }
      ]
    },
    {
      "cell_type": "code",
      "metadata": {
        "id": "BQDqFZ8AtCw6",
        "colab": {
          "base_uri": "https://localhost:8080/"
        },
        "outputId": "bdd44139-fc53-4f26-9ade-544653a2a071"
      },
      "source": [
        "#30\n",
        "\n",
        "# Python program to shuffle a deck of card\n",
        "\n",
        "# importing modules\n",
        "import itertools, random\n",
        "\n",
        "# make a deck of cards\n",
        "deck = list(itertools.product(range(1,14),['Spade','Heart','Diamond','Club']))\n",
        "\n",
        "# shuffle the cards\n",
        "random.shuffle(deck)\n",
        "\n",
        "# draw five cards\n",
        "print(\"You got:\")\n",
        "for i in range(5):\n",
        "   print(deck[i][0], \"of\", deck[i][1])"
      ],
      "execution_count": null,
      "outputs": [
        {
          "output_type": "stream",
          "text": [
            "You got:\n",
            "5 of Diamond\n",
            "12 of Heart\n",
            "9 of Spade\n",
            "5 of Heart\n",
            "10 of Club\n"
          ],
          "name": "stdout"
        }
      ]
    },
    {
      "cell_type": "code",
      "metadata": {
        "id": "uHhTCV3BtC0o",
        "colab": {
          "base_uri": "https://localhost:8080/"
        },
        "outputId": "2a8e5289-fbba-46e4-fdb4-41c31c633ab8"
      },
      "source": [
        "#31\n",
        "\n",
        "# Program to display calendar of the given month and year\n",
        "\n",
        "# importing calendar module\n",
        "import calendar\n",
        "\n",
        "yy = 2014  # year\n",
        "mm = 11    # month\n",
        "\n",
        "# To take month and year input from the user\n",
        "# yy = int(input(\"Enter year: \"))\n",
        "# mm = int(input(\"Enter month: \"))\n",
        "\n",
        "# display the calendar\n",
        "print(calendar.month(yy, mm))"
      ],
      "execution_count": null,
      "outputs": [
        {
          "output_type": "stream",
          "text": [
            "   November 2014\n",
            "Mo Tu We Th Fr Sa Su\n",
            "                1  2\n",
            " 3  4  5  6  7  8  9\n",
            "10 11 12 13 14 15 16\n",
            "17 18 19 20 21 22 23\n",
            "24 25 26 27 28 29 30\n",
            "\n"
          ],
          "name": "stdout"
        }
      ]
    },
    {
      "cell_type": "code",
      "metadata": {
        "id": "h775IXQvtC2_",
        "colab": {
          "base_uri": "https://localhost:8080/"
        },
        "outputId": "bfac9f64-6b1d-4676-cc94-51561ef035ed"
      },
      "source": [
        "#32\n",
        "\n",
        "# Python program to display the Fibonacci sequence\n",
        "\n",
        "def recur_fibo(n):\n",
        "   if n <= 1:\n",
        "       return n\n",
        "   else:\n",
        "       return(recur_fibo(n-1) + recur_fibo(n-2))\n",
        "\n",
        "nterms = 10\n",
        "\n",
        "# check if the number of terms is valid\n",
        "if nterms <= 0:\n",
        "   print(\"Plese enter a positive integer\")\n",
        "else:\n",
        "   print(\"Fibonacci sequence:\")\n",
        "   for i in range(nterms):\n",
        "       print(recur_fibo(i))"
      ],
      "execution_count": null,
      "outputs": [
        {
          "output_type": "stream",
          "text": [
            "Fibonacci sequence:\n",
            "0\n",
            "1\n",
            "1\n",
            "2\n",
            "3\n",
            "5\n",
            "8\n",
            "13\n",
            "21\n",
            "34\n"
          ],
          "name": "stdout"
        }
      ]
    },
    {
      "cell_type": "code",
      "metadata": {
        "id": "h8m6QKmVtC50",
        "colab": {
          "base_uri": "https://localhost:8080/"
        },
        "outputId": "00e9675c-398a-423d-eb72-4de88799d250"
      },
      "source": [
        "#33\n",
        "\n",
        "# Python program to find the sum of natural using recursive function\n",
        "\n",
        "def recur_sum(n):\n",
        "   if n <= 1:\n",
        "       return n\n",
        "   else:\n",
        "       return n + recur_sum(n-1)\n",
        "\n",
        "# change this value for a different result\n",
        "num = 16\n",
        "\n",
        "if num < 0:\n",
        "   print(\"Enter a positive number\")\n",
        "else:\n",
        "   print(\"The sum is\",recur_sum(num))"
      ],
      "execution_count": null,
      "outputs": [
        {
          "output_type": "stream",
          "text": [
            "The sum is 136\n"
          ],
          "name": "stdout"
        }
      ]
    },
    {
      "cell_type": "code",
      "metadata": {
        "id": "5SrLpu8CtC9a",
        "colab": {
          "base_uri": "https://localhost:8080/"
        },
        "outputId": "cd607736-25d7-4d37-cf17-44e1af86a9cb"
      },
      "source": [
        "#34\n",
        "\n",
        "# Factorial of a number using recursion\n",
        "\n",
        "def recur_factorial(n):\n",
        "   if n == 1:\n",
        "       return n\n",
        "   else:\n",
        "       return n*recur_factorial(n-1)\n",
        "\n",
        "num = 7\n",
        "\n",
        "# check if the number is negative\n",
        "if num < 0:\n",
        "   print(\"Sorry, factorial does not exist for negative numbers\")\n",
        "elif num == 0:\n",
        "   print(\"The factorial of 0 is 1\")\n",
        "else:\n",
        "   print(\"The factorial of\", num, \"is\", recur_factorial(num))"
      ],
      "execution_count": null,
      "outputs": [
        {
          "output_type": "stream",
          "text": [
            "The factorial of 7 is 5040\n"
          ],
          "name": "stdout"
        }
      ]
    },
    {
      "cell_type": "code",
      "metadata": {
        "id": "oSKqPuD8tDBZ",
        "colab": {
          "base_uri": "https://localhost:8080/"
        },
        "outputId": "58e7a069-95de-43f8-ac2a-2ba966d8c64b"
      },
      "source": [
        "#35\n",
        "\n",
        "# Function to print binary number using recursion\n",
        "def convertToBinary(n):\n",
        "   if n > 1:\n",
        "       convertToBinary(n//2)\n",
        "   print(n % 2,end = '')\n",
        "\n",
        "# decimal number\n",
        "dec = 34\n",
        "\n",
        "convertToBinary(dec)\n",
        "print()\n"
      ],
      "execution_count": null,
      "outputs": [
        {
          "output_type": "stream",
          "text": [
            "100010\n"
          ],
          "name": "stdout"
        }
      ]
    },
    {
      "cell_type": "code",
      "metadata": {
        "id": "gm3E_tMZtDEJ"
      },
      "source": [
        ""
      ],
      "execution_count": null,
      "outputs": []
    },
    {
      "cell_type": "code",
      "metadata": {
        "id": "dAQZeTPetDGs",
        "colab": {
          "base_uri": "https://localhost:8080/"
        },
        "outputId": "ad5ad695-0ec2-4c61-fb04-f5481c648c0d"
      },
      "source": [
        "#36\n",
        "\n",
        "# Program to add two matrices using nested loop\n",
        "\n",
        "X = [[12,7,3],\n",
        "    [4 ,5,6],\n",
        "    [7 ,8,9]]\n",
        "\n",
        "Y = [[5,8,1],\n",
        "    [6,7,3],\n",
        "    [4,5,9]]\n",
        "\n",
        "result = [[0,0,0],\n",
        "         [0,0,0],\n",
        "         [0,0,0]]\n",
        "\n",
        "# iterate through rows\n",
        "for i in range(len(X)):\n",
        "   # iterate through columns\n",
        "   for j in range(len(X[0])):\n",
        "       result[i][j] = X[i][j] + Y[i][j]\n",
        "\n",
        "for r in result:\n",
        "   print(r)"
      ],
      "execution_count": null,
      "outputs": [
        {
          "output_type": "stream",
          "text": [
            "[17, 15, 4]\n",
            "[10, 12, 9]\n",
            "[11, 13, 18]\n"
          ],
          "name": "stdout"
        }
      ]
    },
    {
      "cell_type": "code",
      "metadata": {
        "id": "FCNlXDMts9u-",
        "colab": {
          "base_uri": "https://localhost:8080/"
        },
        "outputId": "830a4f1b-349b-4d17-e3e5-7fe2473d6da3"
      },
      "source": [
        "#37\n",
        "\n",
        "# Program to transpose a matrix using a nested loop\n",
        "\n",
        "X = [[12,7],\n",
        "    [4 ,5],\n",
        "    [3 ,8]]\n",
        "\n",
        "result = [[0,0,0],\n",
        "         [0,0,0]]\n",
        "\n",
        "# iterate through rows\n",
        "for i in range(len(X)):\n",
        "   # iterate through columns\n",
        "   for j in range(len(X[0])):\n",
        "       result[j][i] = X[i][j]\n",
        "\n",
        "for r in result:\n",
        "   print(r)"
      ],
      "execution_count": null,
      "outputs": [
        {
          "output_type": "stream",
          "text": [
            "[12, 4, 3]\n",
            "[7, 5, 8]\n"
          ],
          "name": "stdout"
        }
      ]
    },
    {
      "cell_type": "code",
      "metadata": {
        "id": "XiDOgUh8t5XK",
        "colab": {
          "base_uri": "https://localhost:8080/"
        },
        "outputId": "c5b0227f-a853-458c-98fa-ad467bafd34d"
      },
      "source": [
        "#38\n",
        "\n",
        "# Program to multiply two matrices using nested loops\n",
        "\n",
        "# 3x3 matrix\n",
        "X = [[12,7,3],\n",
        "    [4 ,5,6],\n",
        "    [7 ,8,9]]\n",
        "# 3x4 matrix\n",
        "Y = [[5,8,1,2],\n",
        "    [6,7,3,0],\n",
        "    [4,5,9,1]]\n",
        "# result is 3x4\n",
        "result = [[0,0,0,0],\n",
        "         [0,0,0,0],\n",
        "         [0,0,0,0]]\n",
        "\n",
        "# iterate through rows of X\n",
        "for i in range(len(X)):\n",
        "   # iterate through columns of Y\n",
        "   for j in range(len(Y[0])):\n",
        "       # iterate through rows of Y\n",
        "       for k in range(len(Y)):\n",
        "           result[i][j] += X[i][k] * Y[k][j]\n",
        "\n",
        "for r in result:\n",
        "   print(r)"
      ],
      "execution_count": null,
      "outputs": [
        {
          "output_type": "stream",
          "text": [
            "[114, 160, 60, 27]\n",
            "[74, 97, 73, 14]\n",
            "[119, 157, 112, 23]\n"
          ],
          "name": "stdout"
        }
      ]
    },
    {
      "cell_type": "code",
      "metadata": {
        "id": "xly98V-It5aY",
        "colab": {
          "base_uri": "https://localhost:8080/"
        },
        "outputId": "1b068ced-1cb0-4b2c-f8ce-5b9532683028"
      },
      "source": [
        "#39\n",
        "\n",
        "# Program to check if a string is palindrome or not\n",
        "\n",
        "my_str = 'aIbohPhoBiA'\n",
        "\n",
        "# make it suitable for caseless comparison\n",
        "my_str = my_str.casefold()\n",
        "\n",
        "# reverse the string\n",
        "rev_str = reversed(my_str)\n",
        "\n",
        "# check if the string is equal to its reverse\n",
        "if list(my_str) == list(rev_str):\n",
        "   print(\"The string is a palindrome.\")\n",
        "else:\n",
        "   print(\"The string is not a palindrome.\")"
      ],
      "execution_count": null,
      "outputs": [
        {
          "output_type": "stream",
          "text": [
            "The string is a palindrome.\n"
          ],
          "name": "stdout"
        }
      ]
    },
    {
      "cell_type": "code",
      "metadata": {
        "id": "uSLPDwvzt5db",
        "colab": {
          "base_uri": "https://localhost:8080/"
        },
        "outputId": "63f3d3fd-338e-4b1a-e04d-66266d5cdf0b"
      },
      "source": [
        "#40\n",
        "\n",
        "# define punctuation\n",
        "punctuations = '''!()-[]{};:'\"\\,<>./?@#$%^&*_~'''\n",
        "\n",
        "my_str = \"Hello!!!, he said ---and went.\"\n",
        "\n",
        "# To take input from the user\n",
        "# my_str = input(\"Enter a string: \")\n",
        "\n",
        "# remove punctuation from the string\n",
        "no_punct = \"\"\n",
        "for char in my_str:\n",
        "   if char not in punctuations:\n",
        "       no_punct = no_punct + char\n",
        "\n",
        "# display the unpunctuated string\n",
        "print(no_punct)"
      ],
      "execution_count": null,
      "outputs": [
        {
          "output_type": "stream",
          "text": [
            "Hello he said and went\n"
          ],
          "name": "stdout"
        }
      ]
    },
    {
      "cell_type": "code",
      "metadata": {
        "id": "BwEd8Jkxt5g9"
      },
      "source": [
        ""
      ],
      "execution_count": null,
      "outputs": []
    },
    {
      "cell_type": "code",
      "metadata": {
        "id": "0x6kFBbkt5kA",
        "colab": {
          "base_uri": "https://localhost:8080/"
        },
        "outputId": "204324b8-df83-4d4f-a313-fdef7228aa20"
      },
      "source": [
        "#41\n",
        "\n",
        "# Program to sort alphabetically the words form a string provided by the user\n",
        "\n",
        "my_str = \"Hello this Is an Example With cased letters\"\n",
        "\n",
        "# To take input from the user\n",
        "#my_str = input(\"Enter a string: \")\n",
        "\n",
        "# breakdown the string into a list of words\n",
        "words = [word.lower() for word in my_str.split()]\n",
        "\n",
        "# sort the list\n",
        "words.sort()\n",
        "\n",
        "# display the sorted words\n",
        "\n",
        "print(\"The sorted words are:\")\n",
        "for word in words:\n",
        "   print(word)"
      ],
      "execution_count": null,
      "outputs": [
        {
          "output_type": "stream",
          "text": [
            "The sorted words are:\n",
            "an\n",
            "cased\n",
            "example\n",
            "hello\n",
            "is\n",
            "letters\n",
            "this\n",
            "with\n"
          ],
          "name": "stdout"
        }
      ]
    },
    {
      "cell_type": "code",
      "metadata": {
        "id": "_rlj2pw5t5n5",
        "colab": {
          "base_uri": "https://localhost:8080/"
        },
        "outputId": "d5011509-aac6-4123-cee8-f852c52cf614"
      },
      "source": [
        "#42\n",
        "\n",
        "# Program to count the number of each vowels\n",
        "\n",
        "# string of vowels\n",
        "vowels = 'aeiou'\n",
        "\n",
        "ip_str = 'Hello, have you tried our tutorial section yet?'\n",
        "\n",
        "# make it suitable for caseless comparisions\n",
        "ip_str = ip_str.casefold()\n",
        "\n",
        "# make a dictionary with each vowel a key and value 0\n",
        "count = {}.fromkeys(vowels,0)\n",
        "\n",
        "# count the vowels\n",
        "for char in ip_str:\n",
        "   if char in count:\n",
        "       count[char] += 1\n",
        "\n",
        "print(count)"
      ],
      "execution_count": null,
      "outputs": [
        {
          "output_type": "stream",
          "text": [
            "{'a': 2, 'e': 5, 'i': 3, 'o': 5, 'u': 3}\n"
          ],
          "name": "stdout"
        }
      ]
    },
    {
      "cell_type": "code",
      "metadata": {
        "id": "3irxsEfKujeu",
        "colab": {
          "base_uri": "https://localhost:8080/"
        },
        "outputId": "4d8a5de1-ec9c-40ce-fe41-f666cd7d320f"
      },
      "source": [
        "#43\n",
        "\n",
        "# Python3 code to find largest prime \n",
        "# factor of number \n",
        "import math \n",
        "\n",
        "# A function to find largest prime factor \n",
        "def maxPrimeFactors (n): \n",
        "\t\n",
        "\t# Initialize the maximum prime factor \n",
        "\t# variable with the lowest one \n",
        "\tmaxPrime = -1\n",
        "\t\n",
        "\t# Print the number of 2s that divide n \n",
        "\twhile n % 2 == 0: \n",
        "\t\tmaxPrime = 2\n",
        "\t\tn >>= 1\t # equivalent to n /= 2 \n",
        "\t\t\n",
        "\t# n must be odd at this point, \n",
        "\t# thus skip the even numbers and \n",
        "\t# iterate only for odd integers \n",
        "\tfor i in range(3, int(math.sqrt(n)) + 1, 2): \n",
        "\t\twhile n % i == 0: \n",
        "\t\t\tmaxPrime = i \n",
        "\t\t\tn = n / i \n",
        "\t\n",
        "\t# This condition is to handle the \n",
        "\t# case when n is a prime number \n",
        "\t# greater than 2 \n",
        "\tif n > 2: \n",
        "\t\tmaxPrime = n \n",
        "\t\n",
        "\treturn int(maxPrime) \n",
        "\n",
        "# Driver code to test above function \n",
        "n = 15\n",
        "print(maxPrimeFactors(n)) \n",
        "\n",
        "n = 25698751364526\n",
        "print(maxPrimeFactors(n)) \n",
        "\n",
        "\n"
      ],
      "execution_count": null,
      "outputs": [
        {
          "output_type": "stream",
          "text": [
            "5\n",
            "328513\n"
          ],
          "name": "stdout"
        }
      ]
    },
    {
      "cell_type": "code",
      "metadata": {
        "id": "FT-JDimPujlS",
        "colab": {
          "base_uri": "https://localhost:8080/"
        },
        "outputId": "f1623188-b3e5-4190-b974-f95f42e104da"
      },
      "source": [
        "#44\n",
        "\n",
        "# Python 3 program to\n",
        "# compute sum of digits in\n",
        "# number.\n",
        "\n",
        "# Function to get sum of digits\n",
        "\n",
        "\n",
        "def getSum(n):\n",
        "\n",
        "\tsum = 0\n",
        "\twhile (n != 0):\n",
        "\n",
        "\t\tsum = sum + int(n % 10)\n",
        "\t\tn = int(n/10)\n",
        "\n",
        "\treturn sum\n",
        "\n",
        "# Driver code\n",
        "n = 687\n",
        "print(getSum(n))\n"
      ],
      "execution_count": null,
      "outputs": [
        {
          "output_type": "stream",
          "text": [
            "21\n"
          ],
          "name": "stdout"
        }
      ]
    },
    {
      "cell_type": "code",
      "metadata": {
        "id": "wi3ivfcRujov",
        "colab": {
          "base_uri": "https://localhost:8080/"
        },
        "outputId": "85fbed3c-cbad-41fc-8f2e-1fd752a247e3"
      },
      "source": [
        "#45\n",
        "\n",
        "# function which return reverse of a string\n",
        " \n",
        "def isPalindrome(s):\n",
        "    return s == s[::-1]\n",
        " \n",
        " \n",
        "# Driver code\n",
        "s = \"malayalam\"\n",
        "ans = isPalindrome(s)\n",
        " \n",
        "if ans:\n",
        "    print(\"Yes\")\n",
        "else:\n",
        "    print(\"No\")"
      ],
      "execution_count": null,
      "outputs": [
        {
          "output_type": "stream",
          "text": [
            "Yes\n"
          ],
          "name": "stdout"
        }
      ]
    },
    {
      "cell_type": "code",
      "metadata": {
        "id": "mid_-1edujvG",
        "colab": {
          "base_uri": "https://localhost:8080/"
        },
        "outputId": "26284247-520e-437f-f48f-da0f623c98a8"
      },
      "source": [
        "#46\n",
        "\n",
        "# Python 3 program to count frequencies \n",
        "# of array items \n",
        "def countFreq(arr, n): \n",
        "\t\n",
        "\t# Mark all array elements as not visited \n",
        "\tvisited = [False for i in range(n)] \n",
        "\n",
        "\t# Traverse through array elements \n",
        "\t# and count frequencies \n",
        "\tfor i in range(n): \n",
        "\t\t\n",
        "\t\t# Skip this element if already \n",
        "\t\t# processed \n",
        "\t\tif (visited[i] == True): \n",
        "\t\t\tcontinue\n",
        "\n",
        "\t\t# Count frequency \n",
        "\t\tcount = 1\n",
        "\t\tfor j in range(i + 1, n, 1): \n",
        "\t\t\tif (arr[i] == arr[j]): \n",
        "\t\t\t\tvisited[j] = True\n",
        "\t\t\t\tcount += 1\n",
        "\t\t\n",
        "\t\tprint(arr[i], count) \n",
        "\n",
        "# Driver Code \n",
        "if __name__ == '__main__': \n",
        "\tarr = [10, 20, 20, 10, 10, 20, 5, 20] \n",
        "\tn = len(arr) \n",
        "\tcountFreq(arr, n) \n",
        "\n"
      ],
      "execution_count": null,
      "outputs": [
        {
          "output_type": "stream",
          "text": [
            "10 3\n",
            "20 4\n",
            "5 1\n"
          ],
          "name": "stdout"
        }
      ]
    },
    {
      "cell_type": "code",
      "metadata": {
        "id": "zT1Io8eFujzA"
      },
      "source": [
        ""
      ],
      "execution_count": null,
      "outputs": []
    },
    {
      "cell_type": "markdown",
      "metadata": {
        "id": "D0Rt5UMZyfsf"
      },
      "source": [
        "Given an array of integers of size ‘n’.\n",
        "Our aim is to calculate the maximum sum of ‘k’ \n",
        "consecutive elements in the array.\n",
        "\n",
        "Input  : arr[] = {100, 200, 300, 400}\n",
        "         k = 2\n",
        "Output : 700\n",
        "\n",
        "Input  : arr[] = {1, 4, 2, 10, 23, 3, 1, 0, 20}\n",
        "         k = 4 \n",
        "Output : 39\n",
        "We get maximum sum by adding subarray {4, 2, 10, 23}\n",
        "of size 4.\n",
        "\n",
        "Input  : arr[] = {2, 3}\n",
        "         k = 3\n",
        "Output : Invalid\n",
        "There is no subarray of size 3 as size of whole\n",
        "array is 2."
      ]
    },
    {
      "cell_type": "code",
      "metadata": {
        "id": "7oTrcSM-uj2Q",
        "colab": {
          "base_uri": "https://localhost:8080/"
        },
        "outputId": "17618112-d9f9-4506-be95-304b5310414e"
      },
      "source": [
        "#47\n",
        "\n",
        "# code\n",
        "import sys\n",
        "print(\"GFG\")\n",
        "# O(n * k) solution for finding\n",
        "# maximum sum of a subarray of size k\n",
        "INT_MIN = -sys.maxsize - 1\n",
        "\n",
        "# Returns maximum sum in a\n",
        "# subarray of size k.\n",
        "\n",
        "\n",
        "def maxSum(arr, n, k):\n",
        "\n",
        "\t# Initialize result\n",
        "\tmax_sum = INT_MIN\n",
        "\n",
        "\t# Consider all blocks\n",
        "\t# starting with i.\n",
        "\tfor i in range(n - k + 1):\n",
        "\t\tcurrent_sum = 0\n",
        "\t\tfor j in range(k):\n",
        "\t\t\tcurrent_sum = current_sum + arr[i + j]\n",
        "\n",
        "\t\t# Update result if required.\n",
        "\t\tmax_sum = max(current_sum, max_sum)\n",
        "\n",
        "\treturn max_sum\n",
        "\n",
        "\n",
        "# Driver code\n",
        "arr = [1, 4, 2, 10, 2,\n",
        "\t3, 1, 0, 20]\n",
        "k = 4\n",
        "n = len(arr)\n",
        "print(maxSum(arr, n, k))\n",
        "\n",
        "\n"
      ],
      "execution_count": null,
      "outputs": [
        {
          "output_type": "stream",
          "text": [
            "GFG\n",
            "24\n"
          ],
          "name": "stdout"
        }
      ]
    },
    {
      "cell_type": "code",
      "metadata": {
        "id": "Vk32UjlNuj5y",
        "colab": {
          "base_uri": "https://localhost:8080/"
        },
        "outputId": "b58e7bbd-a90c-4c16-a96e-a1d1fa0f9d65"
      },
      "source": [
        "#48\n",
        "\n",
        "# Python 3 program to\n",
        "# check the number is\n",
        "# divisible by all \n",
        "# digits are not.\n",
        " \n",
        "\n",
        "def checkDivisibility(n, digit) :\n",
        "     \n",
        "    # If the digit divides the\n",
        "    # number then return true\n",
        "    # else return false.\n",
        "    return (digit != 0 and n % digit == 0)\n",
        "     \n",
        "# Function to check if\n",
        "# all digits of n divide\n",
        "# it or not\n",
        "def allDigitsDivide( n) :\n",
        "     \n",
        "    temp = n\n",
        "    while (temp > 0) :\n",
        "         \n",
        "        # Taking the digit of\n",
        "        # the number into digit\n",
        "        # var.\n",
        "        digit = temp % 10\n",
        "        if ((checkDivisibility(n, digit)) == False) :\n",
        "            return False\n",
        " \n",
        "        temp = temp // 10\n",
        "     \n",
        "    return True\n",
        " \n",
        "# Driver function\n",
        "n = 128\n",
        " \n",
        "if (allDigitsDivide(n)) :\n",
        "    print(\"Yes\")\n",
        "else :\n",
        "    print(\"No\" )\n",
        "     \n"
      ],
      "execution_count": null,
      "outputs": [
        {
          "output_type": "stream",
          "text": [
            "Yes\n"
          ],
          "name": "stdout"
        }
      ]
    },
    {
      "cell_type": "code",
      "metadata": {
        "id": "Du3MicXA3DrU",
        "colab": {
          "base_uri": "https://localhost:8080/"
        },
        "outputId": "48d44a33-7e9f-4e38-8482-0a1f341714a5"
      },
      "source": [
        "#49\n",
        "\n",
        "# Python code to find smallest K-digit \n",
        "# number divisible by X \n",
        "\n",
        "def answer(X, K): \n",
        "\t\n",
        "\t# Computing MAX \n",
        "\tMIN = pow(10, K-1) \n",
        "\t\n",
        "\tif(MIN%X == 0): \n",
        "\t\treturn (MIN) \n",
        "\t\n",
        "\telse: \n",
        "\t\treturn ((MIN + X) - ((MIN + X) % X)) \n",
        "\t\n",
        "\n",
        "X = 83; \n",
        "K = 5; \n",
        "\n",
        "print(answer(X, K)) \n",
        "\n"
      ],
      "execution_count": null,
      "outputs": [
        {
          "output_type": "stream",
          "text": [
            "10043\n"
          ],
          "name": "stdout"
        }
      ]
    },
    {
      "cell_type": "code",
      "metadata": {
        "id": "SoniNYlD4yGz"
      },
      "source": [
        ""
      ],
      "execution_count": null,
      "outputs": []
    },
    {
      "cell_type": "code",
      "metadata": {
        "id": "zPZmEnNM3D0B"
      },
      "source": [
        ""
      ],
      "execution_count": null,
      "outputs": []
    },
    {
      "cell_type": "code",
      "metadata": {
        "id": "aoDELafX3D6X"
      },
      "source": [
        ""
      ],
      "execution_count": null,
      "outputs": []
    },
    {
      "cell_type": "markdown",
      "metadata": {
        "id": "2M7zPpwBzwrw"
      },
      "source": [
        "# **Lists**"
      ]
    },
    {
      "cell_type": "code",
      "metadata": {
        "id": "AqLqJqvSuj8o",
        "colab": {
          "base_uri": "https://localhost:8080/"
        },
        "outputId": "c59740ea-6faa-4d48-914e-7c23e8cf55a2"
      },
      "source": [
        "#50\n",
        "\n",
        "# Python program to find sum of elements in list\n",
        "total = 0\n",
        "\n",
        "# creating a list\n",
        "list1 = [11, 5, 17, 18, 23] \n",
        "\n",
        "# Iterate each element in list\n",
        "# and add them in variale total\n",
        "for ele in range(0, len(list1)):\n",
        "\ttotal = total + list1[ele]\n",
        "\n",
        "# printing total value\n",
        "print(\"Sum of all elements in given list: \", total)\n"
      ],
      "execution_count": null,
      "outputs": [
        {
          "output_type": "stream",
          "text": [
            "Sum of all elements in given list:  74\n"
          ],
          "name": "stdout"
        }
      ]
    },
    {
      "cell_type": "code",
      "metadata": {
        "id": "2wBlDkg6ukAO",
        "colab": {
          "base_uri": "https://localhost:8080/"
        },
        "outputId": "d039e4b4-1759-4491-83f8-16edfdd81167"
      },
      "source": [
        "#51\n",
        "\n",
        "# Python program to find smallest \n",
        "# number in a list\n",
        "\n",
        "# list of numbers\n",
        "list1 = [10, 20, 4, 45, 99]\n",
        "\n",
        "# sorting the list\n",
        "list1.sort()\n",
        "\n",
        "# printing the first element\n",
        "print(\"Smallest element is:\", *list1[:1])\n"
      ],
      "execution_count": null,
      "outputs": [
        {
          "output_type": "stream",
          "text": [
            "Smallest element is: 4\n"
          ],
          "name": "stdout"
        }
      ]
    },
    {
      "cell_type": "code",
      "metadata": {
        "id": "h0n4X6U4ukC5",
        "colab": {
          "base_uri": "https://localhost:8080/"
        },
        "outputId": "5a888ab0-8e8d-4b9f-afed-39c33ad601e9"
      },
      "source": [
        "#52\n",
        "\n",
        "# Python program to find smallest \n",
        "# number in a list\n",
        "\n",
        "# list of numbers\n",
        "list1 = [10, 20, 1, 45, 99]\n",
        "\n",
        "\n",
        "# printing the maximum element\n",
        "print(\"Smallest element is:\", min(list1))\n"
      ],
      "execution_count": null,
      "outputs": [
        {
          "output_type": "stream",
          "text": [
            "Smallest element is: 1\n"
          ],
          "name": "stdout"
        }
      ]
    },
    {
      "cell_type": "code",
      "metadata": {
        "id": "PqDQr_KH0e3X",
        "colab": {
          "base_uri": "https://localhost:8080/"
        },
        "outputId": "cb77373b-4f46-48d2-cbc2-2c78ab53e5e4"
      },
      "source": [
        "#53\n",
        "\n",
        "# Python program to find N largest \n",
        "# element from given list of integers \n",
        "  \n",
        "# Function returns N largest elements \n",
        "def Nmaxelements(list1, N): \n",
        "    final_list = [] \n",
        "  \n",
        "    for i in range(0, N):  \n",
        "        max1 = 0\n",
        "          \n",
        "        for j in range(len(list1)):      \n",
        "            if list1[j] > max1: \n",
        "                max1 = list1[j]; \n",
        "                  \n",
        "        list1.remove(max1); \n",
        "        final_list.append(max1) \n",
        "          \n",
        "    print(final_list) \n",
        "  \n",
        "# Driver code \n",
        "list1 = [2, 6, 41, 85, 0, 3, 7, 6, 10] \n",
        "N = 2\n",
        "  \n",
        "# Calling the function \n",
        "Nmaxelements(list1, N)"
      ],
      "execution_count": null,
      "outputs": [
        {
          "output_type": "stream",
          "text": [
            "[85, 41]\n"
          ],
          "name": "stdout"
        }
      ]
    },
    {
      "cell_type": "code",
      "metadata": {
        "id": "vRFdWOfC0e9U",
        "colab": {
          "base_uri": "https://localhost:8080/"
        },
        "outputId": "4cbf5a3d-2295-4907-df16-781a3ab1a9ed"
      },
      "source": [
        "#54\n",
        "\n",
        "# Python program to remove multiple \n",
        "# elements from a list \n",
        "\n",
        "# creating a list \n",
        "list1 = [11, 5, 17, 18, 23, 50] \n",
        "\n",
        "# Iterate each element in list \n",
        "# and add them in variale total \n",
        "for ele in list1: \n",
        "\tif ele % 2 == 0: \n",
        "\t\tlist1.remove(ele) \n",
        "\n",
        "# printing modified list \n",
        "print(\"New list after removing all even numbers: \", list1) \n"
      ],
      "execution_count": null,
      "outputs": [
        {
          "output_type": "stream",
          "text": [
            "New list after removing all even numbers:  [11, 5, 17, 23]\n"
          ],
          "name": "stdout"
        }
      ]
    },
    {
      "cell_type": "code",
      "metadata": {
        "id": "URVYbDUm0fCk",
        "colab": {
          "base_uri": "https://localhost:8080/"
        },
        "outputId": "9fbfa7d5-4c45-43c1-8f8b-0f6d4017504b"
      },
      "source": [
        "#55\n",
        "\n",
        "# Python program to print \n",
        "# duplicates from a list \n",
        "# of integers \n",
        "def Repeat(x): \n",
        "\t_size = len(x) \n",
        "\trepeated = [] \n",
        "\tfor i in range(_size): \n",
        "\t\tk = i + 1\n",
        "\t\tfor j in range(k, _size): \n",
        "\t\t\tif x[i] == x[j] and x[i] not in repeated: \n",
        "\t\t\t\trepeated.append(x[i]) \n",
        "\treturn repeated \n",
        "\n",
        "# Driver Code \n",
        "list1 = [10, 20, 30, 20, 20, 30, 40, \n",
        "\t\t50, -20, 60, 60, -20, -20] \n",
        "print (Repeat(list1)) \n",
        "\t\n",
        "# This code is contributed \n",
        "# by Sandeep_anand \n"
      ],
      "execution_count": null,
      "outputs": [
        {
          "output_type": "stream",
          "text": [
            "[20, 30, -20, 60]\n"
          ],
          "name": "stdout"
        }
      ]
    },
    {
      "cell_type": "code",
      "metadata": {
        "id": "n1WKSzGa0fJS",
        "colab": {
          "base_uri": "https://localhost:8080/"
        },
        "outputId": "6e131b29-6d8c-41e4-f258-f26710c40270"
      },
      "source": [
        "#56\n",
        " \n",
        "# Python program to sort \n",
        "# one list using\n",
        "# the other list\n",
        "def sorting_of_element(list1,list2):\n",
        " \n",
        "    # initializing blank dictionary\n",
        "    f_1 = {} \n",
        "    \n",
        "    # initializing blank list\n",
        "    final_list = [] \n",
        "    \n",
        "    # Addition of two list in one dictionary\n",
        "    f_1 = {list1[i]: list2[i] for i in range(len(list2))} \n",
        "    \n",
        "    # sorting of dictionary based on value\n",
        "    f_lst = {k: v for k, v in sorted(f_1.items(), key=lambda item: item[1])}\n",
        "    \n",
        "    # Element addition in the list\n",
        "    for i in f_lst.keys():\n",
        "        final_list.append(i)\n",
        "    return final_list\n",
        "        \n",
        "list1 = [\"a\", \"b\", \"c\", \"d\", \"e\", \"f\", \"g\", \"h\", \"i\"]\n",
        "list2 = [ 0, 1, 1, 0, 1, 2, 2, 0, 1]\n",
        " \n",
        " \n",
        "sorting_of_element(list1,list2)"
      ],
      "execution_count": null,
      "outputs": [
        {
          "output_type": "execute_result",
          "data": {
            "text/plain": [
              "['a', 'd', 'h', 'b', 'c', 'e', 'i', 'f', 'g']"
            ]
          },
          "metadata": {
            "tags": []
          },
          "execution_count": 18
        }
      ]
    },
    {
      "cell_type": "code",
      "metadata": {
        "id": "HWlDxLxk0fL5",
        "colab": {
          "base_uri": "https://localhost:8080/"
        },
        "outputId": "66221afa-5c4f-4770-e500-70650335904b"
      },
      "source": [
        "#57\n",
        "\n",
        "# Python program to print positive Numbers in given range \n",
        "\n",
        "start, end = -4, 19\n",
        "\n",
        "# iterating each number in list \n",
        "for num in range(start, end + 1): \n",
        "\t\n",
        "\t# checking condition \n",
        "\tif num >= 0: \n",
        "\t\tprint(num, end = \" \") \n"
      ],
      "execution_count": null,
      "outputs": [
        {
          "output_type": "stream",
          "text": [
            "0 1 2 3 4 5 6 7 8 9 10 11 12 13 14 15 16 17 18 19 "
          ],
          "name": "stdout"
        }
      ]
    },
    {
      "cell_type": "code",
      "metadata": {
        "id": "gG1CXXoC0fQf"
      },
      "source": [
        ""
      ],
      "execution_count": null,
      "outputs": []
    },
    {
      "cell_type": "code",
      "metadata": {
        "id": "EuunC9XU0fo7"
      },
      "source": [
        ""
      ],
      "execution_count": null,
      "outputs": []
    },
    {
      "cell_type": "markdown",
      "metadata": {
        "id": "oIEiNr59KkdW"
      },
      "source": [
        "# **Sorting algos**"
      ]
    },
    {
      "cell_type": "code",
      "metadata": {
        "id": "9XbPT8hNKjX7",
        "colab": {
          "base_uri": "https://localhost:8080/"
        },
        "outputId": "4d898ad1-4886-43b8-846c-81e2c68019fd"
      },
      "source": [
        "#58\n",
        "\n",
        "# Python program for implementation of Quicksort Sort \n",
        "\n",
        "\n",
        "\n",
        "\n",
        "def partition(arr, low, high): \n",
        "\ti = (low-1)\t\t # index of smaller element \n",
        "\tpivot = arr[high]\t # pivot \n",
        "\n",
        "\tfor j in range(low, high): \n",
        "\n",
        "\t\t# If current element is smaller than or \n",
        "\t\t# equal to pivot \n",
        "\t\tif arr[j] <= pivot: \n",
        "\n",
        "\t\t\t# increment index of smaller element \n",
        "\t\t\ti = i+1\n",
        "\t\t\tarr[i], arr[j] = arr[j], arr[i] \n",
        "\n",
        "\tarr[i+1], arr[high] = arr[high], arr[i+1] \n",
        "\treturn (i+1) \n",
        "\n",
        "# The main function that implements QuickSort \n",
        "\n",
        "\n",
        "# Function to do Quick sort \n",
        "\n",
        "\n",
        "def quickSort(arr, low, high): \n",
        "\tif len(arr) == 1: \n",
        "\t\treturn arr \n",
        "\tif low < high: \n",
        "\n",
        "\t\t# pi is partitioning index, arr[p] is now \n",
        "\t\t# at right place \n",
        "\t\tpi = partition(arr, low, high) \n",
        "\n",
        "\t\t# Separately sort elements before \n",
        "\t\t# partition and after partition \n",
        "\t\tquickSort(arr, low, pi-1) \n",
        "\t\tquickSort(arr, pi+1, high) \n",
        "\n",
        "\n",
        "# Driver code to test above \n",
        "arr = [10, 7, 8, 9, 1, 5] \n",
        "n = len(arr) \n",
        "quickSort(arr, 0, n-1) \n",
        "print(\"Sorted array is:\") \n",
        "for i in range(n): \n",
        "\tprint(\"%d\" % arr[i]), \n",
        "\n"
      ],
      "execution_count": null,
      "outputs": [
        {
          "output_type": "stream",
          "text": [
            "Sorted array is:\n",
            "1\n",
            "5\n",
            "7\n",
            "8\n",
            "9\n",
            "10\n"
          ],
          "name": "stdout"
        }
      ]
    },
    {
      "cell_type": "code",
      "metadata": {
        "id": "3sbeKJZmLEr-",
        "colab": {
          "base_uri": "https://localhost:8080/"
        },
        "outputId": "c6380ba1-b598-425a-8ede-4c707d9406d5"
      },
      "source": [
        "#59\n",
        "\n",
        "# Python program for implementation of MergeSort \n",
        "\n",
        "\n",
        "def merge(arr, l, m, r): \n",
        "\tn1 = m - l + 1\n",
        "\tn2 = r- m \n",
        "\n",
        "\t# create temp arrays \n",
        "\tL = [0] * (n1) \n",
        "\tR = [0] * (n2) \n",
        "\n",
        "\t# Copy data to temp arrays L[] and R[] \n",
        "\tfor i in range(0 , n1): \n",
        "\t\tL[i] = arr[l + i] \n",
        "\n",
        "\tfor j in range(0 , n2): \n",
        "\t\tR[j] = arr[m + 1 + j] \n",
        "\n",
        "\n",
        "\ti = 0\t # Initial index of first subarray \n",
        "\tj = 0\t # Initial index of second subarray \n",
        "\tk = l\t # Initial index of merged subarray \n",
        "\n",
        "\twhile i < n1 and j < n2 : \n",
        "\t\tif L[i] <= R[j]: \n",
        "\t\t\tarr[k] = L[i] \n",
        "\t\t\ti += 1\n",
        "\t\telse: \n",
        "\t\t\tarr[k] = R[j] \n",
        "\t\t\tj += 1\n",
        "\t\tk += 1\n",
        "\n",
        "\n",
        "\twhile i < n1: \n",
        "\t\tarr[k] = L[i] \n",
        "\t\ti += 1\n",
        "\t\tk += 1\n",
        "\n",
        "\n",
        "\twhile j < n2: \n",
        "\t\tarr[k] = R[j] \n",
        "\t\tj += 1\n",
        "\t\tk += 1\n",
        "\n",
        "# l is for left index and r is right index of the \n",
        "# sub-array of arr to be sorted \n",
        "def mergeSort(arr,l,r): \n",
        "\tif l < r: \n",
        "\n",
        "\t\t# Same as (l+r)//2, but avoids overflow for \n",
        "\t\t# large l and h \n",
        "\t\tm = (l+(r-1))//2\n",
        "\n",
        "\t\t# Sort first and second halves \n",
        "\t\tmergeSort(arr, l, m) \n",
        "\t\tmergeSort(arr, m+1, r) \n",
        "\t\tmerge(arr, l, m, r) \n",
        "\n",
        "\n",
        "\n",
        "arr = [12, 11, 13, 5, 6, 7] \n",
        "n = len(arr) \n",
        "print (\"Given array is\") \n",
        "for i in range(n): \n",
        "\tprint (\"%d\" %arr[i]), \n",
        "\n",
        "mergeSort(arr,0,n-1) \n",
        "print (\"\\n\\nSorted array is\") \n",
        "for i in range(n): \n",
        "\tprint (\"%d\" %arr[i]), \n",
        "\n",
        "\n"
      ],
      "execution_count": null,
      "outputs": [
        {
          "output_type": "stream",
          "text": [
            "Given array is\n",
            "12\n",
            "11\n",
            "13\n",
            "5\n",
            "6\n",
            "7\n",
            "\n",
            "\n",
            "Sorted array is\n",
            "5\n",
            "6\n",
            "7\n",
            "11\n",
            "12\n",
            "13\n"
          ],
          "name": "stdout"
        }
      ]
    },
    {
      "cell_type": "code",
      "metadata": {
        "id": "V53axWYtKink",
        "colab": {
          "base_uri": "https://localhost:8080/"
        },
        "outputId": "9f7e6489-a3dc-4cf5-8812-5adf8807144d"
      },
      "source": [
        "#60\n",
        "\n",
        "# Python program for implementation of Insertion Sort \n",
        "\n",
        "\n",
        "def insertionSort(arr): \n",
        "\n",
        "\t\n",
        "\tfor i in range(1, len(arr)): \n",
        "\n",
        "\t\tkey = arr[i] \n",
        "\n",
        "\t \n",
        "\t\tj = i-1\n",
        "\t\twhile j >=0 and key < arr[j] : \n",
        "\t\t\t\tarr[j+1] = arr[j] \n",
        "\t\t\t\tj -= 1\n",
        "\t\tarr[j+1] = key \n",
        "\n",
        "\n",
        " \n",
        "arr = [12, 11, 13, 5, 6] \n",
        "insertionSort(arr) \n",
        "print (\"Sorted array is:\") \n",
        "for i in range(len(arr)): \n",
        "\tprint (\"%d\" %arr[i]) \n",
        "\n",
        "\n"
      ],
      "execution_count": null,
      "outputs": [
        {
          "output_type": "stream",
          "text": [
            "Sorted array is:\n",
            "5\n",
            "6\n",
            "11\n",
            "12\n",
            "13\n"
          ],
          "name": "stdout"
        }
      ]
    },
    {
      "cell_type": "code",
      "metadata": {
        "id": "7Fe_Jrl-LVz6",
        "colab": {
          "base_uri": "https://localhost:8080/"
        },
        "outputId": "c72c90f0-ebd2-4da8-c404-5076d871c18d"
      },
      "source": [
        "#61\n",
        "\n",
        "# Python program for implementation of Selection \n",
        "# Sort \n",
        "import sys \n",
        "A = [64, 25, 12, 22, 11] \n",
        "\n",
        "# Traverse through all array elements \n",
        "for i in range(len(A)): \n",
        "\t\n",
        "\t# Find the minimum element in remaining \n",
        "\t# unsorted array \n",
        "\tmin_idx = i \n",
        "\tfor j in range(i+1, len(A)): \n",
        "\t\tif A[min_idx] > A[j]: \n",
        "\t\t\tmin_idx = j \n",
        "\t\t\t\n",
        "\t \n",
        "\tA[i], A[min_idx] = A[min_idx], A[i] \n",
        "\n",
        "\n",
        "print (\"Sorted array\") \n",
        "for i in range(len(A)): \n",
        "\tprint(\"%d\" %A[i])\n"
      ],
      "execution_count": null,
      "outputs": [
        {
          "output_type": "stream",
          "text": [
            "Sorted array\n",
            "11\n",
            "12\n",
            "22\n",
            "25\n",
            "64\n"
          ],
          "name": "stdout"
        }
      ]
    },
    {
      "cell_type": "code",
      "metadata": {
        "id": "d2hKhDR1LgjS",
        "colab": {
          "base_uri": "https://localhost:8080/"
        },
        "outputId": "92166a02-61e4-457d-b3b4-f9118682a1c0"
      },
      "source": [
        "#62\n",
        "\n",
        "# Python program for implementation of Bubble Sort \n",
        "\n",
        "def bubbleSort(arr): \n",
        "\tn = len(arr) \n",
        "\n",
        "\t# Traverse through all array elements \n",
        "\tfor i in range(n-1): \n",
        "\t# range(n) also work but outer loop will repeat one time more than needed. \n",
        "\n",
        "\t\t# Last i elements are already in place \n",
        "\t\tfor j in range(0, n-i-1): \n",
        "\n",
        "\n",
        "\t\t\tif arr[j] > arr[j+1] : \n",
        "\t\t\t\tarr[j], arr[j+1] = arr[j+1], arr[j] \n",
        "\n",
        "\n",
        "arr = [64, 34, 25, 12, 22, 11, 90] \n",
        "\n",
        "bubbleSort(arr) \n",
        "\n",
        "print (\"Sorted array is:\") \n",
        "for i in range(len(arr)): \n",
        "\tprint (\"%d\" %arr[i]), \n"
      ],
      "execution_count": null,
      "outputs": [
        {
          "output_type": "stream",
          "text": [
            "Sorted array is:\n",
            "11\n",
            "12\n",
            "22\n",
            "25\n",
            "34\n",
            "64\n",
            "90\n"
          ],
          "name": "stdout"
        }
      ]
    },
    {
      "cell_type": "code",
      "metadata": {
        "id": "HOgQ1CQdLq6U"
      },
      "source": [
        ""
      ],
      "execution_count": null,
      "outputs": []
    },
    {
      "cell_type": "code",
      "metadata": {
        "id": "4mfPJnlmLrDT"
      },
      "source": [
        ""
      ],
      "execution_count": null,
      "outputs": []
    },
    {
      "cell_type": "code",
      "metadata": {
        "id": "K-FGNErLLrKs"
      },
      "source": [
        ""
      ],
      "execution_count": null,
      "outputs": []
    },
    {
      "cell_type": "markdown",
      "metadata": {
        "id": "ZseIcD7zLsj1"
      },
      "source": [
        "# **Searching algos**"
      ]
    },
    {
      "cell_type": "code",
      "metadata": {
        "id": "LAyMlSpwLr28",
        "colab": {
          "base_uri": "https://localhost:8080/"
        },
        "outputId": "db55d2bf-199b-48df-cc22-e3e74420a791"
      },
      "source": [
        "#63\n",
        "\n",
        "# Python 3 program for recursive binary search.\n",
        "\n",
        "# Returns index of x in arr if present, else -1\n",
        "def binary_search(arr, low, high, x):\n",
        "\n",
        "\t# Check base case\n",
        "\tif high >= low:\n",
        "\n",
        "\t\tmid = (high + low) // 2\n",
        "\n",
        "\t\t# If element is present at the middle itself\n",
        "\t\tif arr[mid] == x:\n",
        "\t\t\treturn mid\n",
        "\n",
        "\t\n",
        "\t\telif arr[mid] > x:\n",
        "\t\t\treturn binary_search(arr, low, mid - 1, x)\n",
        "\n",
        "\t\t# Else the element can only be present in right subarray\n",
        "\t\telse:\n",
        "\t\t\treturn binary_search(arr, mid + 1, high, x)\n",
        "\n",
        "\telse:\n",
        "\t\t# Element is not present in the array\n",
        "\t\treturn -1\n",
        "\n",
        "# Test array\n",
        "arr = [ 2, 3, 4, 10, 40 ]\n",
        "x = 10\n",
        "\n",
        "# Function call\n",
        "result = binary_search(arr, 0, len(arr)-1, x)\n",
        "\n",
        "if result != -1:\n",
        "\tprint(\"Element is present at index\", str(result))\n",
        "else:\n",
        "\tprint(\"Element is not present in array\")\n"
      ],
      "execution_count": null,
      "outputs": [
        {
          "output_type": "stream",
          "text": [
            "Element is present at index 3\n"
          ],
          "name": "stdout"
        }
      ]
    },
    {
      "cell_type": "code",
      "metadata": {
        "id": "Ljh0I3jvL4Vy",
        "colab": {
          "base_uri": "https://localhost:8080/"
        },
        "outputId": "e0f5be8c-dad3-487d-ae4b-902e995cb7d8"
      },
      "source": [
        "#64\n",
        "\n",
        "# Iterative Binary Search Function\n",
        "\n",
        "def binary_search(arr, x):\n",
        "\tlow = 0\n",
        "\thigh = len(arr) - 1\n",
        "\tmid = 0\n",
        "\n",
        "\twhile low <= high:\n",
        "\n",
        "\t\tmid = (high + low) // 2\n",
        "\n",
        "\t\t# If x is greater, ignore left half\n",
        "\t\tif arr[mid] < x:\n",
        "\t\t\tlow = mid + 1\n",
        "\n",
        "\t\t# If x is smaller, ignore right half\n",
        "\t\telif arr[mid] > x:\n",
        "\t\t\thigh = mid - 1\n",
        "\n",
        "\t\t# means x is present at mid\n",
        "\t\telse:\n",
        "\t\t\treturn mid\n",
        "\n",
        "\treturn -1\n",
        "\n",
        "\n",
        "# Test array\n",
        "arr = [ 2, 3, 4, 10, 40 ]\n",
        "x = 10\n",
        "\n",
        "# Function call\n",
        "result = binary_search(arr, x)\n",
        "\n",
        "if result != -1:\n",
        "\tprint(\"Element is present at index\", str(result))\n",
        "else:\n",
        "\tprint(\"Element is not present in array\")\n"
      ],
      "execution_count": null,
      "outputs": [
        {
          "output_type": "stream",
          "text": [
            "Element is present at index 3\n"
          ],
          "name": "stdout"
        }
      ]
    },
    {
      "cell_type": "code",
      "metadata": {
        "id": "DDWuAtFTMOgG",
        "colab": {
          "base_uri": "https://localhost:8080/"
        },
        "outputId": "41599dd2-46f8-4d38-f56a-145a81f4cb22"
      },
      "source": [
        "#65\n",
        "\n",
        "# Searching an element in a list/array in python \n",
        "\n",
        "\n",
        "def search(arr, x): \n",
        "\n",
        "\tfor i in range(len(arr)): \n",
        "\n",
        "\t\tif arr[i] == x: \n",
        "\t\t\treturn i \n",
        "\n",
        "\treturn -1\n",
        "\n",
        "search([10,23,45], 45)"
      ],
      "execution_count": null,
      "outputs": [
        {
          "output_type": "execute_result",
          "data": {
            "text/plain": [
              "2"
            ]
          },
          "metadata": {
            "tags": []
          },
          "execution_count": 30
        }
      ]
    },
    {
      "cell_type": "markdown",
      "metadata": {
        "id": "6VcnBkxC408n"
      },
      "source": [
        "# **Rough**"
      ]
    },
    {
      "cell_type": "code",
      "metadata": {
        "id": "-FlMmnBr8miu",
        "colab": {
          "base_uri": "https://localhost:8080/"
        },
        "outputId": "8bc5d05e-6b2f-4691-b481-d940ed110790"
      },
      "source": [
        "#66\n",
        "\n",
        "class Circle():\n",
        "  \"\"\"\n",
        "  def __init__(self):\n",
        "    self.r = r\n",
        "  \"\"\"\n",
        "\n",
        "  def area(self):\n",
        "    r = int(input())\n",
        "    area = 3.14 * r ** 2\n",
        "    return area\n",
        "\n",
        "area1 = Circle()\n",
        "area1.area()"
      ],
      "execution_count": null,
      "outputs": [
        {
          "output_type": "stream",
          "text": [
            "4\n"
          ],
          "name": "stdout"
        },
        {
          "output_type": "execute_result",
          "data": {
            "text/plain": [
              "50.24"
            ]
          },
          "metadata": {
            "tags": []
          },
          "execution_count": 48
        }
      ]
    },
    {
      "cell_type": "code",
      "metadata": {
        "colab": {
          "base_uri": "https://localhost:8080/"
        },
        "id": "aIXFBhwH87_t",
        "outputId": "17eafdeb-b5ab-40be-c3a9-149976735ccf"
      },
      "source": [
        "#68\n",
        "\n",
        "class rev():\n",
        "\n",
        "  def getString(self):\n",
        "     global str1\n",
        "     str1 = input()\n",
        "     return str1\n",
        "\n",
        "  def reverse(self):\n",
        "       print(str1)\n",
        "       str = list(str1)\n",
        "       print(str1)\n",
        "       ar = list()\n",
        "       for s in str1:\n",
        "         if s == 'a' or s == 'e' or s == 'i' or s == 'o' or s == 'u' :\n",
        "           ar.append(s)\n",
        "       print(\"ar:\",ar)\n",
        "       reversed_vowels = [\"u\", \"o\", \"i\", \"e\", \"a\"]\n",
        "       rv = []\n",
        "       for r in reversed_vowels:\n",
        "         for a in ar:\n",
        "           if r == a:\n",
        "             rv.append(a)\n",
        "       return rv\n",
        "\n",
        "\n",
        "R = rev()\n",
        "R.getString() \n",
        "R.reverse()      "
      ],
      "execution_count": null,
      "outputs": [
        {
          "output_type": "stream",
          "text": [
            "ankitsrivastava\n",
            "ankitsrivastava\n",
            "ankitsrivastava\n",
            "ar: ['a', 'i', 'i', 'a', 'a', 'a']\n"
          ],
          "name": "stdout"
        },
        {
          "output_type": "execute_result",
          "data": {
            "text/plain": [
              "['i', 'i', 'a', 'a', 'a', 'a']"
            ]
          },
          "metadata": {
            "tags": []
          },
          "execution_count": 82
        }
      ]
    },
    {
      "cell_type": "code",
      "metadata": {
        "id": "5uFJk-ww8msf"
      },
      "source": [
        ""
      ],
      "execution_count": null,
      "outputs": []
    },
    {
      "cell_type": "code",
      "metadata": {
        "colab": {
          "base_uri": "https://localhost:8080/"
        },
        "id": "LRUV8QuD8mv5",
        "outputId": "3a10d983-5899-411d-f826-878af2a2d984"
      },
      "source": [
        "#69\n",
        "\n",
        "def get():\n",
        "  n = int(input())\n",
        "  return n\n",
        "\n",
        "def sumofdigit():\n",
        "  n1 = get()\n",
        "  sum = 0\n",
        "  print(n1)\n",
        "  while n1 != 0:\n",
        "    sum = sum + n1 % 10\n",
        "    n1 = n1 // 10\n",
        "  return sum  \n",
        "sumofdigit()   "
      ],
      "execution_count": null,
      "outputs": [
        {
          "output_type": "stream",
          "text": [
            "134\n",
            "134\n"
          ],
          "name": "stdout"
        },
        {
          "output_type": "execute_result",
          "data": {
            "text/plain": [
              "8"
            ]
          },
          "metadata": {
            "tags": []
          },
          "execution_count": 33
        }
      ]
    },
    {
      "cell_type": "code",
      "metadata": {
        "id": "0oZf8-x-BjYW",
        "colab": {
          "base_uri": "https://localhost:8080/"
        },
        "outputId": "0008822d-2bb2-44f3-e366-2d93b5a3811e"
      },
      "source": [
        "#70\n",
        "\n",
        "# Python code to find frequency of each word \n",
        "def freq(str): \n",
        "\n",
        "\t# break the string into list of words \n",
        "\tstr = str.split()\t\t \n",
        "\tstr2 = [] \n",
        "\n",
        "\t# loop till string values present in list str \n",
        "\tfor i in str:\t\t\t \n",
        "\n",
        "\t\t# checking for the duplicacy \n",
        "\t\tif i not in str2: \n",
        "\n",
        "\t\t\t# insert value in str2 \n",
        "\t\t\tstr2.append(i) \n",
        "\t\t\t\n",
        "\tfor i in range(0, len(str2)): \n",
        "\n",
        "\t\t# count the frequency of each word(present \n",
        "\t\t# in str2) in str and print \n",
        "\t\tprint('Frequency of', str2[i], 'is :', str.count(str2[i]))\t \n",
        "\n",
        "def main(): \n",
        "\tstr ='apple mango apple orange orange apple guava mango mango'\n",
        "\tfreq(str)\t\t\t\t\t \n",
        "\n",
        "if __name__==\"__main__\": \n",
        "\tmain()\t\t\t # call main function \n"
      ],
      "execution_count": null,
      "outputs": [
        {
          "output_type": "stream",
          "text": [
            "Frequency of apple is : 3\n",
            "Frequency of mango is : 3\n",
            "Frequency of orange is : 2\n",
            "Frequency of guava is : 1\n"
          ],
          "name": "stdout"
        }
      ]
    },
    {
      "cell_type": "code",
      "metadata": {
        "id": "fBqwmzD5Bjb2",
        "colab": {
          "base_uri": "https://localhost:8080/"
        },
        "outputId": "e9b62390-9700-4124-ca89-ed5090bc5dce"
      },
      "source": [
        "#71\n",
        "\n",
        "class Employee:\n",
        "  def __init__(self, name):\n",
        "     self.name = name\n",
        "E1=Employee(\"abc\")\n",
        "print(E1.name) "
      ],
      "execution_count": null,
      "outputs": [
        {
          "output_type": "stream",
          "text": [
            "abc\n"
          ],
          "name": "stdout"
        }
      ]
    },
    {
      "cell_type": "code",
      "metadata": {
        "id": "EjYChFqLBjh_"
      },
      "source": [
        ""
      ],
      "execution_count": null,
      "outputs": []
    },
    {
      "cell_type": "code",
      "metadata": {
        "id": "ToRomoAPBjk0"
      },
      "source": [
        "#72\n",
        "\n",
        "class Dog:\n",
        "    species = \"Canis familiaris\"\n",
        "\n",
        "    def __init__(self, name, age):\n",
        "        self.name = name\n",
        "        self.age = age\n",
        "\n",
        "    def __str__(self):\n",
        "        return f\"{self.name} is {self.age} years old\"\n",
        "\n",
        "    def speak(self, sound):\n",
        "        return f\"{self.name} says {sound}\""
      ],
      "execution_count": null,
      "outputs": []
    },
    {
      "cell_type": "code",
      "metadata": {
        "colab": {
          "base_uri": "https://localhost:8080/",
          "height": 35
        },
        "id": "tO5AHEizpKRh",
        "outputId": "e2d88158-e221-4c9c-cf60-43c5bf08a7da"
      },
      "source": [
        "Dog.species"
      ],
      "execution_count": null,
      "outputs": [
        {
          "output_type": "execute_result",
          "data": {
            "application/vnd.google.colaboratory.intrinsic+json": {
              "type": "string"
            },
            "text/plain": [
              "'Canis familiaris'"
            ]
          },
          "metadata": {
            "tags": []
          },
          "execution_count": 33
        }
      ]
    },
    {
      "cell_type": "code",
      "metadata": {
        "id": "KNBBdwd0okOD"
      },
      "source": [
        "class JackRussellTerrier(Dog):\n",
        "    pass"
      ],
      "execution_count": null,
      "outputs": []
    },
    {
      "cell_type": "code",
      "metadata": {
        "colab": {
          "base_uri": "https://localhost:8080/",
          "height": 35
        },
        "id": "2Y5RUs0zobhF",
        "outputId": "95139002-739a-4033-b609-9f8f41187898"
      },
      "source": [
        "miles = Dog(\"Miles\", 4)\n",
        "miles.speak(\"bhau\")"
      ],
      "execution_count": null,
      "outputs": [
        {
          "output_type": "execute_result",
          "data": {
            "application/vnd.google.colaboratory.intrinsic+json": {
              "type": "string"
            },
            "text/plain": [
              "'Miles says bhau'"
            ]
          },
          "metadata": {
            "tags": []
          },
          "execution_count": 35
        }
      ]
    },
    {
      "cell_type": "code",
      "metadata": {
        "colab": {
          "base_uri": "https://localhost:8080/"
        },
        "id": "MBVOymZtzgL8",
        "outputId": "d67de40d-82db-4c7b-8a5c-bbe757f8915f"
      },
      "source": [
        "#73\n",
        "\n",
        "class ik:\n",
        "  def __init__(self,i):\n",
        "    self.i = i\n",
        "    self.str = []\n",
        "    \n",
        "\n",
        "  def get(self):\n",
        "     for j in range(0,self.i):\n",
        "       st = int(input())\n",
        "       self.str.append(st)\n",
        "     return self.str\n",
        "\n",
        "  def invertList(self): \n",
        "   self.str = [self.str[n] for n in range(len(self.str)-1,-1,-1)]\n",
        "   return self.str\n",
        "\n",
        "a = ik(5)\n",
        "\n",
        "a.get()\n",
        "a.invertList()"
      ],
      "execution_count": null,
      "outputs": [
        {
          "output_type": "stream",
          "text": [
            "3\n",
            "4\n",
            "3\n",
            "2\n",
            "1\n"
          ],
          "name": "stdout"
        },
        {
          "output_type": "execute_result",
          "data": {
            "text/plain": [
              "[1, 2, 3, 4, 3]"
            ]
          },
          "metadata": {
            "tags": []
          },
          "execution_count": 58
        }
      ]
    },
    {
      "cell_type": "code",
      "metadata": {
        "colab": {
          "base_uri": "https://localhost:8080/"
        },
        "id": "S-djh0DBAAHl",
        "outputId": "734b509d-74ba-40d6-c820-ca7de31a43c7"
      },
      "source": [
        "#74\n",
        "\n",
        "class InputOutString(object):\n",
        "    def __init__(self):\n",
        "        self.s = \"\"\n",
        "\n",
        "    def getString(self):\n",
        "        self.s = input()\n",
        "    \n",
        "    def printString(self):\n",
        "        print(self.s.upper())\n",
        "\n",
        "strObj = InputOutString()\n",
        "strObj.getString()\n",
        "strObj.printString()"
      ],
      "execution_count": null,
      "outputs": [
        {
          "output_type": "stream",
          "text": [
            "jswbjbjusw\n",
            "JSWBJBJUSW\n"
          ],
          "name": "stdout"
        }
      ]
    },
    {
      "cell_type": "code",
      "metadata": {
        "colab": {
          "base_uri": "https://localhost:8080/"
        },
        "id": "4TRgJlxE3kfd",
        "outputId": "8a7e96d4-d510-423c-9d1c-1e1c77957a1c"
      },
      "source": [
        "#75\n",
        "\n",
        "class Class_1:\n",
        "    def __init__(self, str_):\n",
        "        self.str_ = str_\n",
        "\n",
        "    def getString(self):\n",
        "        print(\"Enter string:\")\n",
        "        self.str_ = input()\n",
        "        return\n",
        "\n",
        "    def printString(self):\n",
        "        return print(self.str_)\n",
        "\n",
        "x = Class_1(\"Salom, Doston\")\n",
        "x.printString()\n",
        "x.getString()"
      ],
      "execution_count": null,
      "outputs": [
        {
          "output_type": "stream",
          "text": [
            "Salom, Doston\n",
            "Enter string:\n",
            "ankit\n"
          ],
          "name": "stdout"
        }
      ]
    },
    {
      "cell_type": "code",
      "metadata": {
        "id": "56QgRjeDB58F",
        "colab": {
          "base_uri": "https://localhost:8080/"
        },
        "outputId": "1b78ba10-6d88-4abb-e1ed-239dec7a2933"
      },
      "source": [
        "#76\n",
        "\n",
        "# Reversing a list using slicing technique \n",
        "def Reverse(lst): \n",
        "\tnew_lst = lst[::-1] \n",
        "\treturn new_lst \n",
        "\t\n",
        "lst = [10, 11, 12, 13, 14, 15] \n",
        "print(Reverse(lst)) "
      ],
      "execution_count": null,
      "outputs": [
        {
          "output_type": "stream",
          "text": [
            "[15, 14, 13, 12, 11, 10]\n"
          ],
          "name": "stdout"
        }
      ]
    },
    {
      "cell_type": "code",
      "metadata": {
        "colab": {
          "base_uri": "https://localhost:8080/"
        },
        "id": "zh-AM-APElgp",
        "outputId": "50fad1aa-7db7-4930-b4f3-3a590d5664b4"
      },
      "source": [
        "#77\n",
        "\n",
        "score_list = {}\n",
        "s = list()\n",
        "for _ in range(int(input())):\n",
        "    name = input()\n",
        "    score = float(input())\n",
        "    if score in score_list:\n",
        "       score_list[score].append(name)\n",
        "    else:\n",
        "       score_list[score] = [name]\n",
        "    if score not in s:\n",
        "       s.append(score)   \n",
        "           \n",
        "m = min(s)       \n",
        "s.remove(m)\n",
        "m1 = min(s)\n",
        "score_list[m1].sort()\n",
        "for i in score_list[m1]:\n",
        "    print(i)"
      ],
      "execution_count": null,
      "outputs": [
        {
          "output_type": "stream",
          "text": [
            "5\n",
            "ankit\n",
            "20\n",
            "srivastava\n",
            "30\n",
            "ankit\n",
            "30\n",
            "ankit1\n",
            "40\n",
            "srivastava1\n",
            "30\n",
            "ankit\n",
            "srivastava\n",
            "srivastava1\n"
          ],
          "name": "stdout"
        }
      ]
    },
    {
      "cell_type": "code",
      "metadata": {
        "colab": {
          "base_uri": "https://localhost:8080/"
        },
        "id": "5qk7tfWRNcGG",
        "outputId": "01ff01a3-7fa1-4866-8394-066d8bb456e2"
      },
      "source": [
        "\n",
        "n = int(input())\n",
        "\n",
        "scores = list(map(int, input().rstrip().split()))\n",
        "\n",
        "\n",
        "def breakingRecords(scores):\n",
        "    mincount = maxcount = 0\n",
        "    maxscore = minscore = scores[0]\n",
        "    \n",
        "    for i in range(1, len(scores)):\n",
        "        if minscore > scores[i]:\n",
        "            minscore = scores[i]\n",
        "            mincount += 1\n",
        "        elif maxscore < scores[i]:\n",
        "            maxscore = scores[i]\n",
        "            maxcount += 1\n",
        "    return (maxcount, mincount)  \n",
        "\n",
        "result = breakingRecords(scores)               \n",
        "result        "
      ],
      "execution_count": null,
      "outputs": [
        {
          "output_type": "stream",
          "text": [
            "4\n",
            "10 20 30 40\n"
          ],
          "name": "stdout"
        },
        {
          "output_type": "execute_result",
          "data": {
            "text/plain": [
              "(3, 0)"
            ]
          },
          "metadata": {
            "tags": []
          },
          "execution_count": 118
        }
      ]
    },
    {
      "cell_type": "code",
      "metadata": {
        "id": "d2_yh85yrZGG"
      },
      "source": [
        "# Python program to find sum of\n",
        "# digits of a number until\n",
        "# sum becomes single digit.\n",
        "import math \n",
        "\n",
        "\n",
        "def digSum( n):\n",
        "\tsum = 0\n",
        "\t\n",
        "\twhile(n > 0 or sum > 9):\n",
        "\t\n",
        "\t\tif(n == 0):\n",
        "\t\t\tn = sum\n",
        "\t\t\tsum = 0\n",
        "\t\t\n",
        "\t\tsum += n % 10\n",
        "\t\tn /= 10\n",
        "\t\n",
        "\treturn sum\n",
        "\n",
        "# Driver method\n",
        "n = 1234\n",
        "print (digSum(n))\n",
        "\n",
        "\n"
      ],
      "execution_count": null,
      "outputs": []
    },
    {
      "cell_type": "code",
      "metadata": {
        "colab": {
          "base_uri": "https://localhost:8080/"
        },
        "id": "guBM3b7qrdZp",
        "outputId": "8285a658-060b-4c4c-f9ce-2d710a3cd0d6"
      },
      "source": [
        "def digSum(n):\n",
        "\n",
        "\tif (n == 0):\n",
        "\t\treturn 0\n",
        "\tif (n % 9 == 0):\n",
        "\t\treturn 9\n",
        "\telse:\n",
        "\t\t(n % 9)\n",
        "\n",
        "# Driver program to test the above function\n",
        "n = 9999\n",
        "print(digSum(n))\n",
        "\n"
      ],
      "execution_count": null,
      "outputs": [
        {
          "output_type": "stream",
          "text": [
            "9\n"
          ],
          "name": "stdout"
        }
      ]
    }
  ]
}